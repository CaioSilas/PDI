{
 "cells": [
  {
   "attachments": {},
   "cell_type": "markdown",
   "metadata": {},
   "source": [
    "# Carregar bibliotecas"
   ]
  },
  {
   "cell_type": "code",
   "execution_count": 13,
   "metadata": {},
   "outputs": [],
   "source": [
    "import torch\n",
    "import torch.nn as nn\n",
    "import torchvision\n",
    "import torchvision.transforms as transforms\n",
    "import numpy as np\n",
    "import matplotlib.pyplot as plt\n",
    "from datetime import datetime\n",
    "from sklearn import metrics\n",
    "from scipy import ndimage, signal"
   ]
  },
  {
   "cell_type": "code",
   "execution_count": 2,
   "metadata": {},
   "outputs": [
    {
     "name": "stdout",
     "output_type": "stream",
     "text": [
      "Using torch 2.3.0\n"
     ]
    }
   ],
   "source": [
    "print(\"Using torch\", torch.__version__)"
   ]
  },
  {
   "cell_type": "code",
   "execution_count": null,
   "metadata": {},
   "outputs": [],
   "source": [
    "def meu_conv(img, mask, s=1):\n",
    "    lin, col = img.shape[:2]\n",
    "    for i,x in enumerate(range(0,lin,s)):\n",
    "        for j,y in enumerate(range(0,col,s)):\n"
   ]
  },
  {
   "attachments": {},
   "cell_type": "markdown",
   "metadata": {},
   "source": [
    "# Camada Convolutional\n",
    "\n",
    "<p>\n",
    "<b>torch.nn.Conv2d</b>(in_channels, out_channels, kernel_size, stride=1, padding=0, dilation=1, groups=1, bias=True, padding_mode='zeros', device=None, dtype=None)\n",
    "</p>\n",
    "\n",
    "Parameters:\n",
    "\n",
    "<p>\n",
    "<ul>\n",
    "    <li>in_channels (int) – Number of channels in the input image</li>\n",
    "    <li>out_channels (int) – Number of channels produced by the convolution</li>\n",
    "    <li>kernel_size (int or tuple) – Size of the convolving kernel</li>\n",
    "    <li>stride (int or tuple, optional) – Stride of the convolution. Default: 1</li>\n",
    "    <li>padding (int, tuple or str, optional) – Padding added to all four sides of the input. Default: 0</li>\n",
    "    <li>padding_mode (str, optional) – 'zeros', 'reflect', 'replicate' or 'circular'. Default: 'zeros'</li>\n",
    "    <li>dilation (int or tuple, optional) – Spacing between kernel elements. Default: 1</li>\n",
    "    <li>groups (int, optional) – Number of blocked connections from input channels to output channels. Default: 1</li>\n",
    "    <li>bias (bool, optional) – If True, adds a learnable bias to the output. Default: True</li>\n",
    "</ul>\n",
    "</p>\n",
    "\n",
    "\n",
    "\n",
    "\n",
    "\n",
    "\n",
    "\n",
    "\n",
    "\n",
    "\n",
    "\n",
    "\n",
    "\n",
    "\n",
    "\n",
    "\n",
    "\n"
   ]
  },
  {
   "cell_type": "code",
   "execution_count": 14,
   "metadata": {},
   "outputs": [
    {
     "name": "stdout",
     "output_type": "stream",
     "text": [
      "torch.Size([20, 33, 26, 100])\n"
     ]
    }
   ],
   "source": [
    "# With square kernels and equal stride\n",
    "#m = nn.Conv2d(16, 33, 3, stride=2)\n",
    "# non-square kernels and unequal stride and with padding\n",
    "#m = nn.Conv2d(16, 33, (3, 5), stride=(2, 1), padding=(4, 2))\n",
    "# non-square kernels and unequal stride and with padding and dilation\n",
    "m = nn.Conv2d(3, 33, (3, 5), stride=(2, 1), padding=(4, 2), dilation=(3, 1))\n",
    "input = torch.randn(20, 3, 50, 100)\n",
    "output = m(input)\n",
    "print(output.shape)"
   ]
  },
  {
   "attachments": {},
   "cell_type": "markdown",
   "metadata": {},
   "source": [
    "## Camada de Pooling\n",
    "<p>\n",
    "<b>torch.nn.MaxPool2d</b>(kernel_size, stride=None, padding=0, dilation=1, return_indices=False, ceil_mode=False)\n",
    "</p>\n",
    "\n",
    "Parameters:\n",
    "\n",
    "<p>\n",
    "<ul>\n",
    "    <li>kernel_size (Union[int, Tuple[int, int]]) – the size of the window to take a max over</li>\n",
    "    <li>stride (Union[int, Tuple[int, int]]) – the stride of the window. Default value is kernel_size</li>\n",
    "    <li>padding (Union[int, Tuple[int, int]]) – Implicit negative infinity padding to be added on both sides</li>\n",
    "    <li>dilation (Union[int, Tuple[int, int]]) – a parameter that controls the stride of elements in the window</li>\n",
    "    <li>return_indices (bool) – if True, will return the max indices along with the outputs. Useful for torch.nn.MaxUnpool2d later</li>\n",
    "    <li>ceil_mode (bool) – when True, will use ceil instead of floor to compute the output shape</li>\n",
    "</ul>\n",
    "</p>\n",
    "\n",
    "<p>\n",
    "<b>torch.nn.AvgPool2d</b>(kernel_size, stride=None, padding=0, ceil_mode=False, count_include_pad=True, divisor_override=None)\n",
    "</p>\n",
    "\n",
    "Parameters:\n",
    "\n",
    "<p>\n",
    "<ul>\n",
    "    <li>kernel_size (Union[int, Tuple[int, int]]) – the size of the window</li>\n",
    "    <li>stride (Union[int, Tuple[int, int]]) – the stride of the window. Default value is kernel_size</li>\n",
    "    <li>padding (Union[int, Tuple[int, int]]) – implicit zero padding to be added on both sides</li>\n",
    "    <li>ceil_mode (bool) – when True, will use ceil instead of floor to compute the output shape</li>\n",
    "    <li>count_include_pad (bool) – when True, will include the zero-padding in the averaging calculation</li>\n",
    "    <li>divisor_override (Optional[int]) – if specified, it will be used as divisor, otherwise size of the pooling region will be used.</li>\n",
    "</ul>\n",
    "</p>\n"
   ]
  },
  {
   "cell_type": "code",
   "execution_count": 15,
   "metadata": {},
   "outputs": [
    {
     "name": "stdout",
     "output_type": "stream",
     "text": [
      "torch.Size([20, 16, 24, 15])\n"
     ]
    }
   ],
   "source": [
    "# pool of square window of size=3, stride=2\n",
    "m = nn.MaxPool2d(3, stride=2)\n",
    "# pool of non-square window\n",
    "#m = nn.MaxPool2d((3, 2), stride=(2, 1))\n",
    "input = torch.randn(20, 16, 50, 32)\n",
    "output = m(input)\n",
    "print(output.shape)"
   ]
  },
  {
   "attachments": {},
   "cell_type": "markdown",
   "metadata": {},
   "source": [
    "# Dropout"
   ]
  },
  {
   "attachments": {},
   "cell_type": "markdown",
   "metadata": {},
   "source": [
    "<p>\n",
    "<b>torch.nn.Dropout</b>(p=0.5, inplace=False): During training, randomly zeroes some of the elements of the input tensor with probability p using samples from a Bernoulli distribution.\n",
    "\n",
    "The outputs are scaled by a factor of $\\frac{1}{1-p}$ during training. This means that during evaluation the module simply computes an identity function.\n",
    "\n",
    "</p>\n",
    "\n",
    "Parameters:\n",
    "\n",
    "<p>\n",
    "<ul>\n",
    "    <li>p (float) – probability of an element to be zeroed. Default: 0.5</li>\n",
    "    <li>inplace (bool) – If set to True, will do this operation in-place. Default: False</li>\n",
    "</ul>\n",
    "</p>\n",
    "\n",
    "<p>\n",
    "<b>torch.nn.Dropout2d</b>(p=0.5, inplace=False)\n",
    "</p>\n",
    "\n",
    "Parameters:\n",
    "\n",
    "<p>\n",
    "<ul>\n",
    "    <li>p (float) – probability of an element to be zeroed. Default: 0.5</li>\n",
    "    <li>inplace (bool) – If set to True, will do this operation in-place. Default: False</li>\n",
    "</ul>\n",
    "</p>"
   ]
  },
  {
   "cell_type": "code",
   "execution_count": 17,
   "metadata": {},
   "outputs": [
    {
     "name": "stdout",
     "output_type": "stream",
     "text": [
      "torch.Size([4, 8])\n",
      "tensor([1., 1., 1., 1., 1., 1., 1.])\n",
      "tensor([1.2500, 1.2500, 1.2500, 0.0000, 1.2500, 1.2500, 1.2500])\n",
      "tensor(5)\n",
      "1.25\n"
     ]
    }
   ],
   "source": [
    "m = nn.Dropout(p=0.2)\n",
    "input = torch.ones(4, 8)\n",
    "output = m(input)\n",
    "print(output.shape)\n",
    "print(input[1,:7])\n",
    "print(output[1,:7])\n",
    "print(torch.sum(output == 0))\n",
    "print(1/(1-0.2))\n"
   ]
  },
  {
   "cell_type": "code",
   "execution_count": 8,
   "metadata": {},
   "outputs": [
    {
     "name": "stdout",
     "output_type": "stream",
     "text": [
      "6.4\n"
     ]
    }
   ],
   "source": [
    "print(4*8*.2)"
   ]
  },
  {
   "cell_type": "code",
   "execution_count": 18,
   "metadata": {},
   "outputs": [
    {
     "name": "stdout",
     "output_type": "stream",
     "text": [
      "tensor([ 0.7695, -0.6022, -0.3029,  0.1243,  0.5033, -0.9744,  1.6587, -1.4976,\n",
      "        -1.0868, -1.0131,  0.0000,  1.4593, -0.2790,  1.3901, -0.0000,  0.1741])\n"
     ]
    }
   ],
   "source": [
    "m = nn.Dropout2d(p=0.2)\n",
    "input = torch.randn(20, 16, 32, 32)\n",
    "output = m(input)\n",
    "print(output[0,:, 2,2])"
   ]
  },
  {
   "cell_type": "code",
   "execution_count": 20,
   "metadata": {},
   "outputs": [
    {
     "name": "stdout",
     "output_type": "stream",
     "text": [
      "tensor([[-1.2620, -0.9061,  1.0282],\n",
      "        [ 0.9971,  0.7160,  0.3163],\n",
      "        [-2.1207, -0.1684, -1.0131]])\n"
     ]
    }
   ],
   "source": [
    "print(output[0,9,:3,:3])"
   ]
  },
  {
   "attachments": {},
   "cell_type": "markdown",
   "metadata": {},
   "source": [
    "# Funções de ativação\n",
    "\n",
    "<b>torch.nn.ReLU</b>(inplace=False). Applies the rectified linear unit function element-wise:\n",
    "$ReLU(x) = max(0,x)$\n",
    "\n",
    "<b>torch.nn.Sigmoid</b>(*args, **kwargs). Applies the element-wise function: \n",
    "$$\\frac{1}{1+exp(x)}$$\n",
    "\n",
    "<b>torch.nn.Tanh</b>(*args, **kwargs). Applies the Hyperbolic Tangent (Tanh) function element-wise.Tanh is defined as: $$Tanh(x) = \\frac{exp(x)-exp(-x)}{exp(x)+exp(-x)}$$"
   ]
  },
  {
   "attachments": {},
   "cell_type": "markdown",
   "metadata": {},
   "source": [
    "# Função de perda (Loss function)\n",
    "\n",
    "<b>torch.nn.L1Loss</b>(size_average=None, reduce=None, reduction='mean'): Creates a criterion that measures the mean absolute error (MAE) between each element in the input $x$ and target $y$.\n",
    "\n",
    "Parameter:\n",
    "<p>\n",
    "<ul>\n",
    "    <li>reduction (str, optional) – Specifies the reduction to apply to the output: 'none' | 'mean' | 'sum'. 'none': no reduction will be applied, 'mean': the sum of the output will be divided by the number of elements in the output, 'sum': the output will be summed. Note: size_average and reduce are in the process of being deprecated, and in the meantime, specifying either of those two args will override reduction. Default: 'mean'</li>\n",
    "</ul>\n",
    "</p>\n",
    "\n",
    "<b>torch.nn.MSELoss</b>(size_average=None, reduce=None, reduction='mean')\n",
    "\n",
    "<b>torch.nn.CrossEntropyLoss</b>(weight=None, size_average=None, ignore_index=- 100, reduce=None, reduction='mean', label_smoothing=0.0): It is useful when training a classification problem with $C$ classes. If provided, the optional argument weight should be a 1D Tensor assigning weight to each of the classes. This is particularly useful when you have an unbalanced training set.\n",
    "\n",
    "\n",
    "\n",
    "\n",
    "\n"
   ]
  },
  {
   "cell_type": "code",
   "execution_count": 9,
   "metadata": {},
   "outputs": [],
   "source": [
    "loss = nn.L1Loss()\n",
    "input = torch.randn(3, 5, requires_grad=True)\n",
    "target = torch.randn(3, 5)\n",
    "output = loss(input, target)\n",
    "output.backward()"
   ]
  },
  {
   "attachments": {},
   "cell_type": "markdown",
   "metadata": {},
   "source": [
    "# Função de otimização\n",
    "\n",
    "<b>torch.optim.SGD</b>(params, lr=<required parameter>, momentum=0, dampening=0, weight_decay=0, nesterov=False, *, maximize=False, foreach=None, differentiable=False)\n",
    "\n",
    "<b>torch.optim.Adagrad</b>(params, lr=0.01, lr_decay=0, weight_decay=0, initial_accumulator_value=0, eps=1e-10, foreach=None, *, maximize=False, differentiable=False). Implements Adagrad algorithm.\n",
    "\n",
    "<b>torch.optim.Adadelta</b>(params, lr=1.0, rho=0.9, eps=1e-06, weight_decay=0, foreach=None, *, maximize=False, differentiable=False)\n",
    "\n",
    "<b>torch.optim.RMSprop</b>(params, lr=0.01, alpha=0.99, eps=1e-08, weight_decay=0, momentum=0, centered=False, foreach=None, maximize=False, differentiable=False)"
   ]
  },
  {
   "cell_type": "code",
   "execution_count": 22,
   "metadata": {},
   "outputs": [],
   "source": [
    "#optimizer = torch.optim.SGD(model.parameters(), lr=0.1, momentum=0.9)\n",
    "#optimizer.zero_grad()\n",
    "#loss_fn(model(input), target).backward()\n",
    "#optimizer.step()"
   ]
  },
  {
   "attachments": {},
   "cell_type": "markdown",
   "metadata": {},
   "source": [
    "# Contenedores\n",
    "\n",
    "<b>torch.nn.Sequential</b>(*args: Module)\n",
    "\n",
    "<b>torch.nn.Sequential</b>(arg: OrderedDict[str, Module])\n",
    "\n",
    "O nn.Sequential é um contêiner ordenado de módulos. Os dados são passados por todos os módulos na ordem definida. É possível utilizar contêineres em sequência para montar uma rede rápida\n"
   ]
  },
  {
   "cell_type": "code",
   "execution_count": 21,
   "metadata": {},
   "outputs": [],
   "source": [
    "seq_modules = nn.Sequential(\n",
    "    nn.Linear(10,20),\n",
    "    nn.ReLU(),\n",
    "    nn.Linear(20, 10)\n",
    ")\n",
    "input_image = torch.rand(3,10)\n",
    "logits = seq_modules(input_image)"
   ]
  },
  {
   "attachments": {},
   "cell_type": "markdown",
   "metadata": {},
   "source": [
    "# Formato para criar uma Rede Neural\n",
    "<p>O formato para criar uma rede neural usando o método de classe é o seguinte</p>\n",
    "<!--\n",
    "<table><tr>\n",
    "<td> <img src=\"https://drive.google.com/uc?id=1ExhUVoHaj2i4gN1UWC6U7RfP-boZhnRL\" alt=\"Drawing\"  width=\"300\"/> </td>\n",
    "<td> <img src=\"https://drive.google.com/uc?id=1BGJbV6sXNNlt2PmIZ7RCyHpQfPRpZgJ6\" alt=\"Drawing\"  width=\"300\"/> </td>\n",
    "<td> <img src=\"https://drive.google.com/uc?id=1d3bAvzHJ5wRwPxIXGZXiUhP7bA5o0SbY\" alt=\"Drawing\"  width=\"300\"/> </td>\n",
    "</tr></table>\n",
    "-->\n",
    "<img src=\"ClassRNA.png\" alt=\"Drawing\"  width=\"400\"/>\n",
    "\n",
    "<p>No método <i>__init()__</i> são definidas as camadas e outras variáveis e no método <i>forward()</i> é definido como os dados fluem através das camadas.</p>\n",
    "\n",
    "<img src=\"ClassRNAImplementation.png\" alt=\"Drawing\"  width=\"400\"/>\n",
    "\n",
    "Logo, define-se a função de perda e o otimizador. Os otimizadores definem como os pesos da rede neural devem ser atualizados, e a função de perda ou custo mede a discrepância entre a previsão de um algoritmo e a saída supervisionada, e representa o custo de estar errado. A continuação é definida a função de perda CrossEntropyLoss(), que é a combinação de log_softmax() e NLLLoss(), e o optimizador SGD Optimizer.\n",
    "\n",
    "<img src=\"criterion_optimizer.png\" alt=\"Drawing\"  width=\"500\"/>"
   ]
  },
  {
   "attachments": {},
   "cell_type": "markdown",
   "metadata": {},
   "source": [
    "# Implementar a rede Lenet\n",
    "<img src=\"pytorch_cnn_lenet.webp\" alt=\"Drawing\"  width=\"500\"/>\n",
    "\n",
    "<p>\n",
    "A arquitetura LeNet foi proposta por um dos avôs do aprendizado profundo, Yann LeCunn. Pelos padrões de hoje, o LeNet é uma rede neural muito rasa, composta pelas seguintes camadas:\n",
    "\n",
    "(CONV => RELU => POOL) * 2 => FC => RELU => FC => SOFTMAX\n",
    "</p>\n"
   ]
  },
  {
   "cell_type": "code",
   "execution_count": 12,
   "metadata": {},
   "outputs": [],
   "source": [
    "class Lenet(nn.Module):\n",
    "    def __init__(self, numChannels, classes):\n",
    "        # chamar o construtor da classe Base (Pai)\n",
    "        super(Lenet, self).__init__()\n",
    "\n",
    "        # definição das camadas convolucionais\n",
    "        self.conv_layers = nn.Sequential(\n",
    "            # primeiro grupo convolucional\n",
    "            nn.Conv2d(in_channels = numChannels, out_channels=20, kernel_size=5, stride=1),\n",
    "            nn.ReLU(),\n",
    "            nn.MaxPool2d(kernel_size=2, stride=2),\n",
    "            # segundo grupo convolucional\n",
    "            nn.Conv2d(in_channels = 20, out_channels=50, kernel_size=5, stride=1),\n",
    "            nn.ReLU(),\n",
    "            nn.MaxPool2d(kernel_size=2, stride=2),            \n",
    "        )\n",
    "        # definiçao das camadas fully connected\n",
    "        self.dense_layers = nn.Sequential(\n",
    "            nn.Linear(in_features=800, out_features=500),\n",
    "            nn.ReLU(),\n",
    "            nn.Linear(in_features=500, out_features=classes)\n",
    "        )\n",
    "    def forward(self, x):\n",
    "        out = self.conv_layers(x)\n",
    "        out = out.view(out.size(0), -1)\n",
    "        #out = nn.Flatten(out, start_dim = 1)\n",
    "        out = self.dense_layers(out)\n",
    "        return out"
   ]
  },
  {
   "cell_type": "code",
   "execution_count": 22,
   "metadata": {},
   "outputs": [],
   "source": [
    "def neuronios_convolucional(W, F, S, P):\n",
    "    return int( (W-F+2*P)/S+1 )"
   ]
  },
  {
   "cell_type": "code",
   "execution_count": 23,
   "metadata": {},
   "outputs": [],
   "source": [
    "def neuronios_pooling(W, F, S):\n",
    "    return int( (W-F)/S+1 )"
   ]
  },
  {
   "cell_type": "code",
   "execution_count": 24,
   "metadata": {},
   "outputs": [
    {
     "name": "stdout",
     "output_type": "stream",
     "text": [
      "12\n",
      "4\n",
      "800\n"
     ]
    }
   ],
   "source": [
    "tam_conv1 = neuronios_pooling(neuronios_convolucional(28, 5, 1, 0), 2, 2)\n",
    "tam_conv2 = neuronios_pooling(neuronios_convolucional(tam_conv1, 5, 1, 0), 2, 2)\n",
    "print(tam_conv1)\n",
    "print(tam_conv2)\n",
    "print(tam_conv2*tam_conv2*50)"
   ]
  },
  {
   "attachments": {},
   "cell_type": "markdown",
   "metadata": {},
   "source": [
    "# Definição da função de treino"
   ]
  },
  {
   "cell_type": "code",
   "execution_count": 13,
   "metadata": {},
   "outputs": [],
   "source": [
    "def fit(model, criterion, optimizer, train_loader, test_loader, epochs):\n",
    "    train_losses = np.zeros( epochs )\n",
    "    test_losses = np.zeros( epochs )\n",
    "\n",
    "    for it in range(epochs):\n",
    "        model.train()\n",
    "        t0 = datetime.now()\n",
    "        train_loss = []\n",
    "\n",
    "        for inputs, targets in train_loader:\n",
    "            # mover os dados para o GPU\n",
    "            inputs, targets = inputs.to(device), targets.to(device)\n",
    "\n",
    "            # zerar os gradientes\n",
    "            optimizer.zero_grad()\n",
    "\n",
    "            # forward pass\n",
    "            outputs = model(inputs)\n",
    " \n",
    "            loss = criterion(outputs, targets)\n",
    "\n",
    "            # backward pass e optimiza\n",
    "            loss.backward()\n",
    "            optimizer.step()\n",
    "\n",
    "            train_loss.append( loss.item() )\n",
    "\n",
    "        train_loss = np.mean(train_loss)\n",
    "\n",
    "        test_loss = []\n",
    "        for inputs, targets in test_loader:\n",
    "            model.eval()\n",
    "            # mover os dados para o GPU\n",
    "            inputs, targets = inputs.to(device), targets.to(device)\n",
    "\n",
    "            # forward pass\n",
    "            outputs = model(inputs)\n",
    "            loss = criterion(outputs, targets)\n",
    "            test_loss.append(loss.item())\n",
    "        test_loss = np.mean(test_loss)\n",
    "\n",
    "        # salvar losses\n",
    "        train_losses[it] = train_loss\n",
    "        test_losses[it] = test_loss\n",
    "\n",
    "        dt = datetime.now() - t0\n",
    "\n",
    "        print(f'Epoch {it+1}/{epochs} Train Loss: {train_loss:.4f} Test Loss: {test_loss} Duracao: {dt}')\n",
    "\n",
    "    return train_losses, test_losses"
   ]
  },
  {
   "attachments": {},
   "cell_type": "markdown",
   "metadata": {},
   "source": [
    "### Plotar a função de perda do treino e teste"
   ]
  },
  {
   "cell_type": "code",
   "execution_count": 16,
   "metadata": {},
   "outputs": [],
   "source": [
    "def plot_losses(train_losses, test_losses):\n",
    "    plt.plot(train_losses, label = 'train loss')\n",
    "    plt.plot(test_losses, label = 'test loss')\n",
    "    plt.legend()\n",
    "    plt.show()"
   ]
  },
  {
   "attachments": {},
   "cell_type": "markdown",
   "metadata": {},
   "source": [
    "#### Módulo para avaliar o teste"
   ]
  },
  {
   "cell_type": "code",
   "execution_count": 17,
   "metadata": {},
   "outputs": [],
   "source": [
    "def predict_module(model, test_loader):\n",
    "    model.eval()\n",
    "    predicted = np.empty((0), int)\n",
    "    true_labels = np.empty((0), int)\n",
    "    for inputs, targets in test_loader:\n",
    "        # mover os dados para o GPU\n",
    "        inputs, targets = inputs.to(device), targets.to(device)\n",
    "\n",
    "        outputs = model(inputs)\n",
    "\n",
    "        # obter a predição\n",
    "        _, predictions = torch.max(outputs, 1)\n",
    "\n",
    "        predicted = np.append(predicted, predictions.cpu())\n",
    "        true_labels = np.append(true_labels, targets.cpu())\n",
    "\n",
    "    return predicted, true_labels"
   ]
  },
  {
   "attachments": {},
   "cell_type": "markdown",
   "metadata": {},
   "source": [
    "#### Modulo para calcular a matriz de confusão"
   ]
  },
  {
   "cell_type": "code",
   "execution_count": 18,
   "metadata": {},
   "outputs": [],
   "source": [
    "def matriz_confusao(true_labels, predicted, display_labels=[0,1,2]):\n",
    "    matriz = metrics.confusion_matrix(true_labels, predicted)\n",
    "    tot = np.sum(matriz, axis=1, keepdims=True) \n",
    "    np.set_printoptions(precision=2)\n",
    "    m_porc = matriz/tot\n",
    "    disp = metrics.ConfusionMatrixDisplay(confusion_matrix=m_porc, display_labels=display_labels)\n",
    "    disp.plot(values_format='.2f')\n",
    "    plt.show()"
   ]
  },
  {
   "attachments": {},
   "cell_type": "markdown",
   "metadata": {},
   "source": [
    "### Base de dados\n",
    "\n",
    "#### Datasets & DataLoaders\n",
    "\n",
    "<p>\n",
    "Pytorch trabalha com duas abstrações chamadas de Dataset e DataLoader. Elas são responsáveis por alimentar seu treinamento com os dados, fazendo isso de forma bem performática.\n",
    "\n",
    "As imagens abaixo ilustram muito bem o papel de cada um:\n",
    "\n",
    "<img src=\"https://i.imgur.com/KTKptDw.png\" alt=\"redes neurais\" style=\"width: 600px;\"/>\n",
    "\n",
    "<img src=\"https://i.imgur.com/dhd1XJy.png\" alt=\"redes neurais\" style=\"width: 600px;\"/>\n",
    "\n",
    "</p>\n",
    "\n",
    "<p>\n",
    "Na primeira imagem, vemos que o <b>Dataset</b> é responsável por acessar os dados e selecionar um item específico. Portanto, dois métodos são essenciais ao implementar o <b>Dataset</b>:\n",
    "\n",
    "<ul>\n",
    "    <li><i>__len__</i>: indica o tamanho do dataset.</li>\n",
    "    <li><i>__getitem__</i>: coleta um item do dataset.</li>\n",
    "</ul>\n",
    "</p>\n",
    "\n",
    "<p>\n",
    "Na segunda imagem, observamos o <b>DataLoader</b> em ação, cuja função é solicitar itens específicos ao <b>Dataset</b>. Durante o treinamento, os dados são passados em lotes e embaralhados, fazendo com que os índices solicitados ao <b>Dataset</b> não sigam uma ordem específica.\n",
    "</p>\n",
    "\n",
    "<p>\n",
    "Em termos de implementação, o método <i>__getitem__</i> deve retornar uma tupla contendo o item e o rótulo, seja ele um tensor de imagem, texto, som, etc. Seu trabalho é adaptar os dados brutos para essa estrutura.\n",
    "</p>\n",
    "\n",
    "<p>\n",
    "Em alguns casos, o PyTorch facilita esse processo, eliminando a necessidade de criar uma classe <b>Dataset</b> do zero.\"\n",
    "</p>"
   ]
  },
  {
   "attachments": {},
   "cell_type": "markdown",
   "metadata": {},
   "source": [
    "#### Imagens de treino do MNIST"
   ]
  },
  {
   "cell_type": "code",
   "execution_count": 19,
   "metadata": {},
   "outputs": [],
   "source": [
    "train_dataset = torchvision.datasets.MNIST(\n",
    "    root='.',\n",
    "    train=True,\n",
    "    transform=transforms.ToTensor(),\n",
    "    download=True\n",
    ")"
   ]
  },
  {
   "attachments": {},
   "cell_type": "markdown",
   "metadata": {},
   "source": [
    "#### Imagens de teste do MNIST"
   ]
  },
  {
   "cell_type": "code",
   "execution_count": 20,
   "metadata": {},
   "outputs": [],
   "source": [
    "test_dataset = torchvision.datasets.MNIST(\n",
    "    root='.',\n",
    "    train=False,\n",
    "    transform = transforms.ToTensor(),\n",
    "    download=True\n",
    ")"
   ]
  },
  {
   "attachments": {},
   "cell_type": "markdown",
   "metadata": {},
   "source": [
    "#### Criando os dataloaders"
   ]
  },
  {
   "cell_type": "code",
   "execution_count": 21,
   "metadata": {},
   "outputs": [],
   "source": [
    "# Data loader\n",
    "# Util pq cria automáticamente batches durante o treino\n",
    "# além de embaralhar os dados\n",
    "batch_size = 128\n",
    "train_loader = torch.utils.data.DataLoader(dataset = train_dataset,\n",
    "    batch_size = batch_size,\n",
    "    shuffle = True) \n",
    "test_loader = torch.utils.data.DataLoader(dataset = test_dataset,\n",
    "    batch_size = batch_size,\n",
    "    shuffle = False) "
   ]
  },
  {
   "attachments": {},
   "cell_type": "markdown",
   "metadata": {},
   "source": [
    "## Treino e Teste"
   ]
  },
  {
   "cell_type": "code",
   "execution_count": 22,
   "metadata": {},
   "outputs": [],
   "source": [
    "# Instanciar a rede\n",
    "model = Lenet(numChannels=1, classes=10)"
   ]
  },
  {
   "attachments": {},
   "cell_type": "markdown",
   "metadata": {},
   "source": [
    "#### Enviar o modelo para o dispositivo disponível (CPU ou GPU)"
   ]
  },
  {
   "cell_type": "code",
   "execution_count": 23,
   "metadata": {},
   "outputs": [
    {
     "data": {
      "text/plain": [
       "Lenet(\n",
       "  (conv_layers): Sequential(\n",
       "    (0): Conv2d(1, 20, kernel_size=(5, 5), stride=(1, 1))\n",
       "    (1): ReLU()\n",
       "    (2): MaxPool2d(kernel_size=2, stride=2, padding=0, dilation=1, ceil_mode=False)\n",
       "    (3): Conv2d(20, 50, kernel_size=(5, 5), stride=(1, 1))\n",
       "    (4): ReLU()\n",
       "    (5): MaxPool2d(kernel_size=2, stride=2, padding=0, dilation=1, ceil_mode=False)\n",
       "  )\n",
       "  (dense_layers): Sequential(\n",
       "    (0): Linear(in_features=800, out_features=500, bias=True)\n",
       "    (1): ReLU()\n",
       "    (2): Linear(in_features=500, out_features=10, bias=True)\n",
       "  )\n",
       ")"
      ]
     },
     "execution_count": 23,
     "metadata": {},
     "output_type": "execute_result"
    }
   ],
   "source": [
    "device = torch.device(\"cuda:0\" if torch.cuda.is_available() else \"cpu\")\n",
    "model.to(device)"
   ]
  },
  {
   "cell_type": "code",
   "execution_count": 24,
   "metadata": {},
   "outputs": [
    {
     "name": "stdout",
     "output_type": "stream",
     "text": [
      "cuda:0\n"
     ]
    }
   ],
   "source": [
    "print(device)"
   ]
  },
  {
   "attachments": {},
   "cell_type": "markdown",
   "metadata": {},
   "source": [
    "#### Definição da função de perda (custo) e do otimizador"
   ]
  },
  {
   "cell_type": "code",
   "execution_count": 25,
   "metadata": {},
   "outputs": [],
   "source": [
    "# Loss para varias classes\n",
    "criterion = nn.CrossEntropyLoss()\n",
    "# Optimizer\n",
    "#optimizer = torch.optim.Adagrad( model.parameters() )\n",
    "optimizer = torch.optim.SGD(model.parameters(),\n",
    "                                    lr=0.001,\n",
    "                                    momentum=0.9,\n",
    "                                    weight_decay=1e-3)"
   ]
  },
  {
   "cell_type": "code",
   "execution_count": 26,
   "metadata": {},
   "outputs": [
    {
     "name": "stdout",
     "output_type": "stream",
     "text": [
      "Epoch 1/10 Train Loss: 1.6391 Test Loss: 0.515459839113151 Duracao: 0:00:13.396965\n",
      "Epoch 2/10 Train Loss: 0.3992 Test Loss: 0.2940533372891855 Duracao: 0:00:07.941125\n",
      "Epoch 3/10 Train Loss: 0.2803 Test Loss: 0.22687579224569887 Duracao: 0:00:07.962461\n",
      "Epoch 4/10 Train Loss: 0.2182 Test Loss: 0.186223000028654 Duracao: 0:00:07.813147\n",
      "Epoch 5/10 Train Loss: 0.1789 Test Loss: 0.1512254484327911 Duracao: 0:00:07.860721\n",
      "Epoch 6/10 Train Loss: 0.1508 Test Loss: 0.1301325179660056 Duracao: 0:00:08.022237\n",
      "Epoch 7/10 Train Loss: 0.1304 Test Loss: 0.11244686274152674 Duracao: 0:00:07.685484\n",
      "Epoch 8/10 Train Loss: 0.1159 Test Loss: 0.1020529959940269 Duracao: 0:00:07.764371\n",
      "Epoch 9/10 Train Loss: 0.1042 Test Loss: 0.08808908746224133 Duracao: 0:00:07.694652\n",
      "Epoch 10/10 Train Loss: 0.0950 Test Loss: 0.0815980928372356 Duracao: 0:00:07.761993\n"
     ]
    },
    {
     "data": {
      "image/png": "[encoded data removed]",
      "text/plain": [
       "<Figure size 640x480 with 1 Axes>"
      ]
     },
     "metadata": {},
     "output_type": "display_data"
    }
   ],
   "source": [
    "# treino da rede\n",
    "train_losses, test_losses = fit(model, criterion, optimizer, train_loader, test_loader, epochs = 10)\n",
    "plot_losses(train_losses, test_losses)\n"
   ]
  },
  {
   "cell_type": "code",
   "execution_count": 27,
   "metadata": {},
   "outputs": [
    {
     "data": {
      "image/png": "[encoded data removed]",
      "text/plain": [
       "<Figure size 640x480 with 2 Axes>"
      ]
     },
     "metadata": {},
     "output_type": "display_data"
    }
   ],
   "source": [
    "# Avaliando com o conjunto de teste\n",
    "predicted, true_labels = predict_module(model, test_loader)\n",
    "matriz_confusao(true_labels, predicted, [0,1,2,3,4,5,6,7,8,9])\n"
   ]
  }
 ],
 "metadata": {
  "kernelspec": {
   "display_name": "base",
   "language": "python",
   "name": "python3"
  },
  "language_info": {
   "codemirror_mode": {
    "name": "ipython",
    "version": 3
   },
   "file_extension": ".py",
   "mimetype": "text/x-python",
   "name": "python",
   "nbconvert_exporter": "python",
   "pygments_lexer": "ipython3",
   "version": "3.11.9"
  },
  "orig_nbformat": 4
 },
 "nbformat": 4,
 "nbformat_minor": 2
}
