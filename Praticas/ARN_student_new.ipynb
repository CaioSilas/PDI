{
 "cells": [
  {
   "cell_type": "code",
   "execution_count": 39,
   "metadata": {},
   "outputs": [
    {
     "data": {
      "text/plain": [
       "{'divide': 'ignore', 'over': 'warn', 'under': 'ignore', 'invalid': 'ignore'}"
      ]
     },
     "execution_count": 39,
     "metadata": {},
     "output_type": "execute_result"
    }
   ],
   "source": [
    "import numpy as np\n",
    "from skimage import io, data, filters, util, color, transform, exposure, measure\n",
    "from skimage.util import img_as_float, img_as_uint, img_as_ubyte\n",
    "import matplotlib.pyplot as plt\n",
    "from sklearn import preprocessing, metrics, svm, datasets\n",
    "from sklearn.model_selection import train_test_split\n",
    "\n",
    "\n",
    "np.seterr(divide='ignore', invalid='ignore')"
   ]
  },
  {
   "cell_type": "code",
   "execution_count": 2,
   "metadata": {},
   "outputs": [
    {
     "name": "stdout",
     "output_type": "stream",
     "text": [
      "[1 2 3]\n",
      "[ 1  2 10  3]\n"
     ]
    }
   ],
   "source": [
    "X = np.array([1,2,3])\n",
    "x = np.insert(X, 2, 10)\n",
    "print(X)\n",
    "print(x)"
   ]
  },
  {
   "attachments": {},
   "cell_type": "markdown",
   "metadata": {},
   "source": [
    "### Rede Neural Artificial\n",
    "\n",
    "<img src=\"https://github.com/storopoli/ciencia-de-dados/blob/main/notebooks/images/redes_neurais.jpeg?raw=1\" alt=\"redes neurais\" style=\"width: 500px;\"/>\n",
    "\n",
    "\n",
    "## Como a rede neural aprende?\n",
    "\n",
    "<p>\n",
    "Cada neurônio contém uma função de ativação (<i style=\"color:yellow\">activation function</i>) que processa uma combinação linear dos inputs e pesos sinápticos, resultando na geração de um sinal de saída.</p>\n",
    "\n",
    "<p>\n",
    "    <ol>\n",
    "    <li>A informação segue um fluxo da camada de entrada (<i style=\"color:yellow\">input layer</i>) para as camadas ocultas (<i style=\"color:yellow\">hidden layers</i>) e, finalmente, para a camada de saída (output layer). Durante esse fluxo, os dados de entrada da camada de entrada são fornecidos aos neurônios das camadas ocultas, que, por sua vez, alimentam o neurônio final da camada de saída.</li>\n",
    "    <li>A primeira etapa na propagação de informações através da rede geralmente é realizada com parâmetros aleatórios para as funções de ativação dos neurônios.</li>\n",
    "    <li>Durante a propagação (<i style=\"color:yellow\">feed forward</i>), os neurônios da camada de saída produzem sinais de saída.</li>\n",
    "    <li>\n",
    "    Após a propagação, a função de custo, que é uma métrica de erro, é calculada. Em seguida, o modelo ajusta os parâmetros dos neurônios na direção de um menor custo, utilizando o gradiente, que é uma derivada multivariada.</li>\n",
    "    <li>\n",
    "    Esse algoritmo é conhecido como retropropagação (<i style=\"color:yellow\">Backpropagation</i>). A cada execução do algoritmo, chamamos de época (<i style=\"color:yellow\">epoch</i>), uma nova propagação é realizada e uma nova função de custo é calculada. Além disso, os parâmetros dos neurônios são atualizados.</li>\n",
    "    <li>\n",
    "    O treinamento/aprendizado da rede neural é encerrado quando as épocas definidas são concluídas.</li>\n",
    "    </ol>\n",
    "</p>\n"
   ]
  },
  {
   "attachments": {},
   "cell_type": "markdown",
   "metadata": {},
   "source": [
    "## Funções de Ativação\n",
    "\n",
    "| **Sigmoid**                                                  | **Tanh**                                                     | **ReLU**                                                     | **Leaky ReLU**                                               |\n",
    "| ------------------------------------------------------------ | ------------------------------------------------------------ | ------------------------------------------------------------ | ------------------------------------------------------------ |\n",
    "| $g(z)=\\frac{1}{1+e^{-z}}$                                    | $g(z)=\\frac{e^{z}-e^{-z}}{e^{z}+e^{-z}}$                     | $g(z)=\\max (0, z)$                                           | $\\begin{array}{c}{g(z)=\\max (\\epsilon z, z)} \\\\ {\\text { com } \\epsilon \\ll 1}\\end{array}$ |\n",
    "| ![Illustration](https://github.com/storopoli/ciencia-de-dados/blob/main/notebooks/images/sigmoid.png?raw=1) | ![Illustration](https://github.com/storopoli/ciencia-de-dados/blob/main/notebooks/images/tanh.png?raw=1) | ![Illustration](https://github.com/storopoli/ciencia-de-dados/blob/main/notebooks/images/relu.png?raw=1) | ![Illustration](https://github.com/storopoli/ciencia-de-dados/blob/main/notebooks/images/leaky-relu.png?raw=1) |"
   ]
  },
  {
   "attachments": {},
   "cell_type": "markdown",
   "metadata": {},
   "source": [
    "### Rede Neural em Sklearn\n",
    "\n",
    "\n",
    "<p>\n",
    "<b>class sklearn.neural_network.MLPClassifier</b>(hidden_layer_sizes=(100,), activation='relu', *, solver='adam', alpha=0.0001, batch_size='auto', learning_rate='constant', learning_rate_init=0.001, power_t=0.5, max_iter=200, shuffle=True, random_state=None, tol=0.0001, verbose=False, warm_start=False, momentum=0.9, nesterovs_momentum=True, early_stopping=False, validation_fraction=0.1, beta_1=0.9, beta_2=0.999, epsilon=1e-08, n_iter_no_change=10, max_fun=15000)</p>\n",
    "\n",
    "<p>\n",
    "<b> Parameters </b>\n",
    "<ul>\n",
    "    <li>hidden_layer_sizes: array-like of shape(n_layers - 2,), default=(100,). The ith element represents the number of neurons in the ith hidden layer.</li>\n",
    "    <li>activation: {‘identity’, ‘logistic’, ‘tanh’, ‘relu’}, default=’relu’. Activation function for the hidden layer.</li>\n",
    "        <ul>\n",
    "            <li> ‘identity’, no-op activation, useful to implement linear bottleneck, returns f(x) = x </li>\n",
    "            <li> ‘logistic’, the logistic sigmoid function, returns f(x) = 1 / (1 + exp(-x)).</li>\n",
    "            <li> ‘tanh’, the hyperbolic tan function, returns f(x) = tanh(x).</li>\n",
    "            <li> ‘relu’, the rectified linear unit function, returns f(x) = max(0, x)</li>\n",
    "        </ul>\n",
    "    <li>solver: {‘lbfgs’, ‘sgd’, ‘adam’}, default=’adam’. The solver for weight optimization. </li>\n",
    "        <ul>\n",
    "            <li> ‘lbfgs’ is an optimizer in the family of quasi-Newton methods.</li>\n",
    "            <li> ‘sgd’ refers to stochastic gradient descent.</li>\n",
    "            <li> ‘adam’ refers to a stochastic gradient-based optimizer proposed by Kingma, Diederik, and Jimmy Ba</li>\n",
    "        </ul>\n",
    "    <li>alpha: float, default=0.0001. Strength of the L2 regularization term. The L2 regularization term is divided by the sample size when added to the loss.</li>\n",
    "    <li>batch_size: int, default=’auto’. Size of minibatches for stochastic optimizers. If the solver is ‘lbfgs’, the classifier will not use minibatch. When set to “auto”, batch_size=min(200, n_samples).</li>    \n",
    "    <li> learning_rate: {‘constant’, ‘invscaling’, ‘adaptive’}, default=’constant’. Learning rate schedule for weight updates.</li>\n",
    "        <ul>\n",
    "            <li> ‘constant’ is a constant learning rate given by ‘learning_rate_init’.</li>\n",
    "            <li> ‘invscaling’ gradually decreases the learning rate at each time step ‘t’ using an inverse scaling exponent of ‘power_t’. effective_learning_rate = learning_rate_init / pow(t, power_t)</li>\n",
    "            <li> ‘adaptive’ keeps the learning rate constant to ‘learning_rate_init’ as long as training loss keeps decreasing. Each time two consecutive epochs fail to decrease training loss by at least tol, or fail to increase validation score by at least tol if ‘early_stopping’ is on, the current learning rate is divided by 5.</li>\n",
    "        </ul>\n",
    "        Only used when solver='sgd'.\n",
    "    <li>learning_rate_init: float, default=0.001. The initial learning rate used. It controls the step-size in updating the weights. Only used when solver=’sgd’ or ‘adam’.</li>\n",
    "    <li>max_iter: int, default=200. Maximum number of iterations. The solver iterates until convergence (determined by ‘tol’) or this number of iterations. For stochastic solvers (‘sgd’, ‘adam’), note that this determines the number of epochs (how many times each data point will be used), not the number of gradient steps.</li>\n",
    "    <li>shuffle: bool, default=True. Whether to shuffle samples in each iteration. Only used when solver=’sgd’ or ‘adam’.</li>\n",
    "    <li>random_state: int, RandomState instance, default=None. Determines random number generation for weights and bias initialization, train-test split if early stopping is used, and batch sampling when solver=’sgd’ or ‘adam’. Pass an int for reproducible results across multiple function calls.</li>\n",
    "    <li>early_stopping: bool, default=False. Whether to use early stopping to terminate training when validation score is not improving. If set to true, it will automatically set aside 10% of training data as validation and terminate training when validation score is not improving by at least tol for n_iter_no_change consecutive epochs. The split is stratified, except in a multilabel setting. If early stopping is False, then the training stops when the training loss does not improve by more than tol for n_iter_no_change consecutive passes over the training set. Only effective when solver=’sgd’ or ‘adam’.</li>\n",
    "    <li>validation_fraction: float, default=0.1. The proportion of training data to set aside as validation set for early stopping. Must be between 0 and 1. Only used if early_stopping is True.</li>    \n",
    "</ul>\n",
    "</p>\n",
    "\n",
    "<p>\n",
    "<b> Attributes </b>\n",
    "<ul>\n",
    "    <li>classes_: ndarray or list of ndarray of shape (n_classes,). Class labels for each output.</li>\n",
    "    <li>loss_: float. The current loss computed with the loss function.</li>\n",
    "    <li>best_loss_: float or None. The minimum loss reached by the solver throughout fitting. If early_stopping=True, this attribute is set ot None. Refer to the best_validation_score_ fitted attribute instead.</li>\n",
    "    <li>loss_curve_: list of shape (n_iter_,). The ith element in the list represents the loss at the ith iteration.</li>    \n",
    "    <li>validation_scores_: list of shape (n_iter_,) or None. The score at each iteration on a held-out validation set. The score reported is the accuracy score. Only available if early_stopping=True, otherwise the attribute is set to None.</li>\n",
    "    <li>best_validation_score_:float or None. The best validation score (i.e. accuracy score) that triggered the early stopping. Only available if early_stopping=True, otherwise the attribute is set to None.</li>\n",
    "    <li>t_: int. The number of training samples seen by the solver during fitting.</li>\n",
    "    <li>coefs_: list of shape (n_layers - 1,). The ith element in the list represents the weight matrix corresponding to layer i.</li>\n",
    "    <li>intercepts_: list of shape (n_layers - 1,). The ith element in the list represents the bias vector corresponding to layer i + 1.</li>\n",
    "    <li>n_features_in_: int. Number of features seen during fit. New in version 0.24.</li>\n",
    "    <li>feature_names_in_: ndarray of shape (n_features_in_,). Names of features seen during fit. Defined only when X has feature names that are all strings. New in version 1.0.</li>    \n",
    "    <li>n_iter_: int. The number of iterations the solver has run.</li>\n",
    "    <li>n_layers_: int. Number of layers.</li> \n",
    "    <li>n_outputs_: int. Number of outputs.</li>\n",
    "    <li>out_activation_: str. Name of the output activation function.</li> \n",
    "</ul>\n",
    "</p>\n"
   ]
  },
  {
   "attachments": {},
   "cell_type": "markdown",
   "metadata": {},
   "source": [
    "## Terminología Machine Learning\n",
    "\n",
    "<ul>\n",
    "  <li>Cada linha é uma observação (também conhecida como: amostra, exemplo, instância, registro - <i> sample, example, instance, record</i>)</li>\n",
    "  <li>Cada coluna é um característica (também conhecido como: preditor, atributo, variável independente, entrada, regressor, covariável - <i>predictor, attribute, independent variable, input, regressor, covariate</i>)</li>\n",
    "</ul>\n",
    "\n",
    "## Requisitos para trabalhar com dados no scikit-learn\n",
    "<ul>\n",
    "  <li>Características (atributos) e etiquetas são objetos separados</li>\n",
    "  <li>As características e etiquetas devem ser numéricos</li>\n",
    "  <li>As características e etiquetas devem ser matrizes NumPy</li>\n",
    "  <li>As características e etiquetas devem ter formas específicas</li>\n",
    "</ul>\n",
    "\n",
    "## Padrão de modelagem de 4 etapas scikit-learn\n",
    "\n",
    "<b>Passo 1</b>: importe a classe que você planeja usar\n",
    "\n",
    "<b>Passo 2</b>: \"Instanciar\" o \"estimador\"\n",
    "<ul>\n",
    "  <li>\"Estimator\" é o termo do scikit-learn para modelo</li>\n",
    "  <li>\"Instanciar\" significa \"criar uma instância de\"</li>\n",
    "  <li>O nome do objeto não importa</li>\n",
    "  <li>Pode especificar parâmetros de ajuste (também conhecidos como \"hiperparâmetros\") durante esta etapa</li>\n",
    "  <li>Todos os parâmetros não especificados são definidos para seus padrões</li>\n",
    "\n",
    "</ul>\n",
    "\n",
    "<b>Passo 3</b>: ajustar o modelo com os dados (também conhecido como \"treinamento de modelo\"). <b>Não esqueça de normalizar os dados</b>\n",
    "<ul>\n",
    "  <li>O modelo está aprendendo a relação entre <i>X</i> e <i>y</i></li>\n",
    "  <li>O treino acontece no proprio objeto</li>\n",
    "</ul>\n",
    "\n",
    "<b>Passo 4</b>: predizer a resposta para uma nova observação\n",
    "<ul>\n",
    "  <li>Novas observações são chamadas de dados \"fora da amostra\"</li>\n",
    "  <li>Usa as informações que aprendeu durante o processo de treinamento do modelo</li>\n",
    "</ul>"
   ]
  },
  {
   "cell_type": "code",
   "execution_count": 40,
   "metadata": {},
   "outputs": [],
   "source": [
    "iris = datasets.load_iris()\n",
    "X = iris.data\n",
    "Y = iris.target"
   ]
  },
  {
   "cell_type": "code",
   "execution_count": 41,
   "metadata": {},
   "outputs": [
    {
     "data": {
      "image/png": "[encoded data removed]",
      "text/plain": [
       "<Figure size 640x480 with 2 Axes>"
      ]
     },
     "metadata": {},
     "output_type": "display_data"
    }
   ],
   "source": [
    "# Passo 1, importar biblioteca\n",
    "from sklearn.neural_network import MLPClassifier\n",
    "\n",
    "# Passo 2, instanciar o classificador\n",
    "clf = MLPClassifier(hidden_layer_sizes=(256,128,64,32),activation=\"relu\",random_state=1)\n",
    "\n",
    "# Passo 3, ajustar o modelo com os dados.\n",
    "# 3.1 Normalizar os dados\n",
    "minmax_scaler = preprocessing.MinMaxScaler().fit(X)\n",
    "X_new = minmax_scaler.transform(X)\n",
    "# 3.2 Particionar o conjunto em treino e teste\n",
    "x_train, x_test, y_train, y_test = train_test_split(X_new, Y, test_size=0.2)\n",
    "# 3.3 Treinar\n",
    "clf.fit(x_train, y_train)\n",
    "\n",
    "# Passo 4, avaliar o modelo\n",
    "y_pred=clf.predict(x_test)\n",
    "matriz = metrics.confusion_matrix(y_test, y_pred)\n",
    "tot = np.sum(matriz, axis=1, keepdims=True) \n",
    "np.set_printoptions(precision=2)\n",
    "m_porc = matriz/tot\n",
    "disp = metrics.ConfusionMatrixDisplay(confusion_matrix=m_porc, display_labels=[0,1,2])\n",
    "disp.plot()\n",
    "plt.show()"
   ]
  },
  {
   "cell_type": "code",
   "execution_count": 25,
   "metadata": {},
   "outputs": [
    {
     "name": "stdout",
     "output_type": "stream",
     "text": [
      "Numero de classes: [0 1 2]\n",
      "Melhor loss: 0.037741386588213306\n",
      "Epocas de treino: 169\n",
      "Numero de camadas: 6\n"
     ]
    },
    {
     "data": {
      "text/plain": [
       "[<matplotlib.lines.Line2D at 0x2285dc2ebd0>]"
      ]
     },
     "execution_count": 25,
     "metadata": {},
     "output_type": "execute_result"
    },
    {
     "data": {
      "image/png": "[encoded data removed]",
      "text/plain": [
       "<Figure size 640x480 with 1 Axes>"
      ]
     },
     "metadata": {},
     "output_type": "display_data"
    }
   ],
   "source": [
    "print(f'Numero de classes: {clf.classes_}')\n",
    "print(f'Melhor loss: {clf.best_loss_}')\n",
    "print(f'Epocas de treino: {clf.n_iter_}')\n",
    "print(f'Numero de camadas: {clf.n_layers_}')\n",
    "plt.plot(clf.loss_curve_)\n",
    "\n"
   ]
  },
  {
   "attachments": {},
   "cell_type": "markdown",
   "metadata": {},
   "source": [
    "# Pytorch\n",
    "[**PyTorch**](https://www.pytorch.org/) é uma biblioteca de código aberto para aprendizado de máquina aplicável a uma ampla variedade de tarefas. Foi criada pelo **Facebook** em 2016 é a principal biblioteca para criação e treinamento de redes neurais artificiais. A API toda é escrita em Python mas é executada em C++ na CPU ou em CUDA/ROCM na GPU."
   ]
  },
  {
   "attachments": {},
   "cell_type": "markdown",
   "metadata": {},
   "source": [
    "### Estruturação dos módulos de PyTorch\n",
    "\n",
    "```python\n",
    "import torch\n",
    "```\n",
    "* [`torch.Tensor`](https://pytorch.org/docs/stable/tensors.html) - Tensores (arrays N-D)\n",
    "* [`torch.nn`](https://pytorch.org/docs/stable/nn.html) - Redes Neurais (_**N**eural **N**etworks_)\n",
    "* [`torch.optim`](https://pytorch.org/docs/stable/optim.html) - Otimização (_**Optim**ization_)\n",
    "* [`torch.data`](https://pytorch.org/docs/stable/data.html) - *Datasets* e Ferramentas de Streaming de Dados\n",
    "* [`torch.autograd`](https://pytorch.org/docs/stable/autograd.html) - Diferenciação Automática (_**Auto**matic Differentiation_)\n",
    "* [`torch.vision`](https://pytorch.org/docs/stable/torchvision/index.html) - Ferramentas de Manipulação de Imagens e Visão Computacional\n",
    "* [`torch.audio`](https://pytorch.org/audio/stable/index.html) - Ferramentas de Manipulação de Áudio\n",
    "* [`torch.jit`](https://pytorch.org/docs/stable/jit.html) - Compilação _**j**ust-**i**n-**t**ime_ de modelos PyTorch em binários"
   ]
  },
  {
   "attachments": {},
   "cell_type": "markdown",
   "metadata": {},
   "source": [
    "## Algoritmos de Otimização\n",
    "\n",
    "PyTorch possui diversos:\n",
    "* **SGD**: _**S**tochastic **G**radient **D**escent_\n",
    "* **SGD com Momento**: SGD com Momento usando a derivada (ou gradiente) do ponto atual\n",
    "* **SGD com Momento Nesterov**: SGD com Momento mas  usa a derivada (ou o gradiente) parcial do ponto seguinte (Nesterov, 1983)\n",
    "* **RMSprop**: SGD com taxa de aprendizagem adaptativa  (Hinton, Srivastava & Swersky, 2012) - `RMSProp`\n",
    "* **AdaGrad**: SGD com taxa de aprendizagem adaptativa (Duchi, Hazan, & Yoram, 2011) -  `AdaGrad`\n",
    "* **Adam**: SGD com taxa de aprendizagem adaptativa e momento (Kingma, Diederick & Jimmy, 2014) - `ADAM`\n",
    "\n",
    "Os mais importantes são o SGD e o Adam"
   ]
  },
  {
   "attachments": {},
   "cell_type": "markdown",
   "metadata": {},
   "source": [
    "### Funcões Custo de Classificação\n",
    "\n",
    "Mais utilizadas\n",
    "\n",
    "\n",
    "* *Binary Cross-entropy* (Entropia cruzada binária): [`torch.nn.BCELoss()`](https://pytorch.org/docs/stable/generated/torch.nn.CrossEntropyLoss.html)\n",
    "* *Categorical Cross-entropy - Negative Log-Likelihood Loss* (Entropia cruzada categórica): [`torch.nn.NLLLoss()`](https://pytorch.org/docs/stable/generated/torch.nn.NLLLoss.html)"
   ]
  },
  {
   "attachments": {},
   "cell_type": "markdown",
   "metadata": {},
   "source": [
    "# Formato para criar uma Rede Neural\n",
    "<p>O formato para criar uma rede neural usando o método de classe é o seguinte</p>\n",
    "<!--\n",
    "<table><tr>\n",
    "<td> <img src=\"https://drive.google.com/uc?id=1ExhUVoHaj2i4gN1UWC6U7RfP-boZhnRL\" alt=\"Drawing\"  width=\"300\"/> </td>\n",
    "<td> <img src=\"https://drive.google.com/uc?id=1BGJbV6sXNNlt2PmIZ7RCyHpQfPRpZgJ6\" alt=\"Drawing\"  width=\"300\"/> </td>\n",
    "<td> <img src=\"https://drive.google.com/uc?id=1d3bAvzHJ5wRwPxIXGZXiUhP7bA5o0SbY\" alt=\"Drawing\"  width=\"300\"/> </td>\n",
    "</tr></table>\n",
    "-->\n",
    "<img src=\"ClassRNA.png\" alt=\"Drawing\"  width=\"400\"/>\n",
    "\n",
    "<p>No método <i>__init()__</i> são definidas as camadas e outras variáveis e no método <i>forward()</i> é definido como os dados fluem através das camadas.</p>\n",
    "\n"
   ]
  },
  {
   "cell_type": "code",
   "execution_count": 42,
   "metadata": {},
   "outputs": [],
   "source": [
    "import torch\n",
    "from torch import nn\n",
    "import torch.nn.functional as F"
   ]
  },
  {
   "cell_type": "code",
   "execution_count": 43,
   "metadata": {},
   "outputs": [],
   "source": [
    "X_train = torch.tensor(x_train, dtype=torch.float32)\n",
    "X_test = torch.tensor(x_test, dtype=torch.float32)\n",
    "Y_train = torch.tensor(y_train, dtype=torch.long)\n",
    "Y_test = torch.tensor(y_test, dtype=torch.long)"
   ]
  },
  {
   "cell_type": "code",
   "execution_count": 28,
   "metadata": {},
   "outputs": [],
   "source": [
    "class Modelo(nn.Module):\n",
    "    def __init__(self,entrada=4,camada_escondida1=14,camada_escondida2=49,saida=3):\n",
    "        super().__init__()\n",
    "        self.fc1 = nn.Linear(entrada,camada_escondida1)\n",
    "        self.fc2 = nn.Linear(camada_escondida1, camada_escondida2)\n",
    "        self.out = nn.Linear(camada_escondida2, saida)\n",
    "    def forward(self, x):\n",
    "        x = F.relu(self.fc1(x))\n",
    "        x = F.relu(self.fc2(x))\n",
    "        x = self.out(x)\n",
    "        return x"
   ]
  },
  {
   "attachments": {},
   "cell_type": "markdown",
   "metadata": {},
   "source": [
    "### Instanciando uma rede"
   ]
  },
  {
   "cell_type": "code",
   "execution_count": 29,
   "metadata": {},
   "outputs": [],
   "source": [
    "modelo_classificacao = Modelo(entrada=4,camada_escondida1=14,camada_escondida2=49,saida=3)"
   ]
  },
  {
   "attachments": {},
   "cell_type": "markdown",
   "metadata": {},
   "source": [
    "### Função de perda (*Loss function*)"
   ]
  },
  {
   "cell_type": "code",
   "execution_count": 44,
   "metadata": {},
   "outputs": [],
   "source": [
    "funcao_objetivo = nn.CrossEntropyLoss()\n",
    "# Loss\n",
    "#funcao_objetivo = nn.BCELoss()"
   ]
  },
  {
   "attachments": {},
   "cell_type": "markdown",
   "metadata": {},
   "source": [
    "### Função de otimização"
   ]
  },
  {
   "cell_type": "code",
   "execution_count": 31,
   "metadata": {},
   "outputs": [],
   "source": [
    "otimizador = torch.optim.Adam(modelo_classificacao.parameters(), lr=0.01)\n",
    "# Optimizer\n",
    "#otimizador = torch.optim.Adagrad( model.parameters() )"
   ]
  },
  {
   "attachments": {},
   "cell_type": "markdown",
   "metadata": {},
   "source": [
    "# Treinamento"
   ]
  },
  {
   "cell_type": "code",
   "execution_count": 32,
   "metadata": {},
   "outputs": [],
   "source": [
    "epocas = 100\n",
    "custos = []\n",
    "for i in range(epocas):\n",
    "  # zerar os gradientes\n",
    "  otimizador.zero_grad()\n",
    "\n",
    "  # forward pass\n",
    "  #y_predito = modelo_classificacao.forward(X_train)\n",
    "  y_predito = modelo_classificacao(X_train)\n",
    "  custo = funcao_objetivo(y_predito, Y_train)\n",
    "\n",
    "  # backward pass\n",
    "  custo.backward()\n",
    "  otimizador.step()\n",
    "\n",
    "  custos.append(custo.item())"
   ]
  },
  {
   "attachments": {},
   "cell_type": "markdown",
   "metadata": {},
   "source": [
    "# Teste"
   ]
  },
  {
   "cell_type": "code",
   "execution_count": 33,
   "metadata": {},
   "outputs": [],
   "source": [
    "preds = []\n",
    "with torch.no_grad():\n",
    "    for val in X_test:\n",
    "        y_predito = modelo_classificacao.forward(val)\n",
    "        preds.append(y_predito.argmax().item())"
   ]
  },
  {
   "attachments": {},
   "cell_type": "markdown",
   "metadata": {},
   "source": [
    "# Avaliação"
   ]
  },
  {
   "cell_type": "code",
   "execution_count": 34,
   "metadata": {},
   "outputs": [
    {
     "data": {
      "image/png": "[encoded data removed]",
      "text/plain": [
       "<Figure size 640x480 with 2 Axes>"
      ]
     },
     "metadata": {},
     "output_type": "display_data"
    }
   ],
   "source": [
    "matriz = metrics.confusion_matrix(Y_test, preds)\n",
    "tot = np.sum(matriz, axis=1, keepdims=True) \n",
    "np.set_printoptions(precision=2)\n",
    "m_porc = matriz/tot\n",
    "disp = metrics.ConfusionMatrixDisplay(confusion_matrix=m_porc, display_labels=[0,1,2])\n",
    "disp.plot()\n",
    "plt.show()"
   ]
  },
  {
   "cell_type": "code",
   "execution_count": 15,
   "metadata": {},
   "outputs": [
    {
     "data": {
      "text/plain": [
       "[<matplotlib.lines.Line2D at 0x2284bbb0790>]"
      ]
     },
     "execution_count": 15,
     "metadata": {},
     "output_type": "execute_result"
    },
    {
     "data": {
      "image/png": "[encoded data removed]",
      "text/plain": [
       "<Figure size 640x480 with 1 Axes>"
      ]
     },
     "metadata": {},
     "output_type": "display_data"
    }
   ],
   "source": [
    "plt.plot(custos)"
   ]
  },
  {
   "cell_type": "markdown",
   "metadata": {},
   "source": [
    "## Código MLP"
   ]
  },
  {
   "cell_type": "code",
   "execution_count": 45,
   "metadata": {},
   "outputs": [],
   "source": [
    "def make_layers(cfg, in_channels = 3):\n",
    "    layers = []\n",
    "    for v in cfg:\n",
    "        layers += [nn.Linear(in_channels, v), nn.ReLU()]\n",
    "        in_channels = v\n",
    "    return nn.Sequential(*layers)"
   ]
  },
  {
   "cell_type": "code",
   "execution_count": 46,
   "metadata": {},
   "outputs": [],
   "source": [
    "class ModeloSkLearn(nn.Module):\n",
    "    def __init__(self,entrada=4,camadas_escondidas=256 ,saida=3):\n",
    "        super().__init__()\n",
    "        self.hidden_layers_num = camadas_escondidas\n",
    "        self.dense_hidden = make_layers(self.hidden_layers_num, entrada)\n",
    "        self.fc = nn.Linear(self.hidden_layers_num[-1], saida)\n",
    "        \n",
    "    def forward(self, x):\n",
    "        x = self.dense_hidden(x)\n",
    "        x = self.fc(x)\n",
    "        return x"
   ]
  },
  {
   "cell_type": "code",
   "execution_count": 47,
   "metadata": {},
   "outputs": [],
   "source": [
    "def meu_fit(modelo, funcao_objetivo, otimizador, data, labels, epocas = 100):\n",
    "    custos = []\n",
    "    for i in range(epocas):\n",
    "        # zerar os gradientes\n",
    "        otimizador.zero_grad()\n",
    "\n",
    "        # forward pass\n",
    "        y_predito = modelo(data)\n",
    "        custo = funcao_objetivo(y_predito, labels)\n",
    "\n",
    "        # backward pass\n",
    "        custo.backward()\n",
    "        otimizador.step()\n",
    "\n",
    "    custos.append(custo.item())\n",
    "    return custos"
   ]
  },
  {
   "cell_type": "code",
   "execution_count": 48,
   "metadata": {},
   "outputs": [],
   "source": [
    "def meu_predict(modelo, data):\n",
    "    preds = []\n",
    "    with torch.no_grad():\n",
    "        for val in data:\n",
    "            y_predito = modelo.forward(val)\n",
    "            preds.append(y_predito.argmax().item())\n",
    "    return preds"
   ]
  },
  {
   "cell_type": "code",
   "execution_count": 49,
   "metadata": {},
   "outputs": [
    {
     "data": {
      "image/png": "[encoded data removed]",
      "text/plain": [
       "<Figure size 640x480 with 2 Axes>"
      ]
     },
     "metadata": {},
     "output_type": "display_data"
    }
   ],
   "source": [
    "#X_train = torch.tensor(x_train, dtype=torch.float32)\n",
    "#X_test = torch.tensor(x_test, dtype=torch.float32)\n",
    "#Y_train = torch.tensor(y_train, dtype=torch.long)\n",
    "#Y_test = torch.tensor(y_test, dtype=torch.long)\n",
    "modelo2 = ModeloSkLearn(entrada=4, camadas_escondidas=[256, 128, 64, 32] , saida=3 )\n",
    "otimizador = torch.optim.Adam(modelo2.parameters(), lr=0.01)\n",
    "# treinar o modelo\n",
    "meu_fit(modelo2, funcao_objetivo, otimizador, X_train, Y_train)\n",
    "\n",
    "# avaliar o modelo\n",
    "meu_predict(modelo2, X_test)\n",
    "\n",
    "matriz = metrics.confusion_matrix(y_test, y_pred)\n",
    "tot = np.sum(matriz, axis=1, keepdims=True) \n",
    "np.set_printoptions(precision=2)\n",
    "m_porc = matriz/tot\n",
    "disp = metrics.ConfusionMatrixDisplay(confusion_matrix=m_porc, display_labels=[0,1,2])\n",
    "disp.plot()\n",
    "plt.show()"
   ]
  }
 ],
 "metadata": {
  "kernelspec": {
   "display_name": "base",
   "language": "python",
   "name": "python3"
  },
  "language_info": {
   "codemirror_mode": {
    "name": "ipython",
    "version": 3
   },
   "file_extension": ".py",
   "mimetype": "text/x-python",
   "name": "python",
   "nbconvert_exporter": "python",
   "pygments_lexer": "ipython3",
   "version": "3.11.9"
  },
  "orig_nbformat": 4
 },
 "nbformat": 4,
 "nbformat_minor": 2
}
