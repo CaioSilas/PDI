{
  "cells": [
    {
      "cell_type": "code",
      "execution_count": 67,
      "metadata": {
        "id": "-BFHjHFjKZNm"
      },
      "outputs": [],
      "source": [
        "import os\n",
        "import json\n",
        "import cv2\n",
        "import numpy as np\n",
        "import random\n",
        "# from pycocotools.coco import COCO\n",
        "from tensorflow.keras.preprocessing.image import img_to_array\n",
        "from tensorflow.keras.applications import MobileNetV2,DenseNet121\n",
        "from tensorflow.keras.layers import Dense, GlobalAveragePooling2D\n",
        "from tensorflow.keras.models import Model\n",
        "from sklearn.neighbors import KNeighborsClassifier\n",
        "from sklearn.model_selection import train_test_split\n",
        "import tensorflow as tf\n",
        "import matplotlib.pyplot as plt\n"
      ]
    },
    {
      "cell_type": "markdown",
      "metadata": {
        "id": "GHCev-vsKZNq"
      },
      "source": [
        "# Preparação de Dados"
      ]
    },
    {
      "cell_type": "markdown",
      "metadata": {
        "id": "h9Q2n5tD0ZB2"
      },
      "source": [
        "A base de dados PKLotSegemented possui a seguinte estrutura:\n",
        " - PUC\n",
        " - UFPR04\n",
        " - UFPR05\n",
        "\n",
        "Cada uma dessas pastas possui mais 3 pastas, Cloudy, Rainy e Sunny\n",
        "Dentro dessas pastas de clima, existem pastas separadas por datas e dentro de cada uma dessas, mais duas pastas:\n",
        "- Empty\n",
        "- Occupied\n",
        "\n",
        "Que armazenam as imagens de estacionamento"
      ]
    },
    {
      "cell_type": "code",
      "execution_count": 68,
      "metadata": {
        "id": "COl4yOYmyaqZ"
      },
      "outputs": [],
      "source": [
        "\n",
        "def prepare_dataset(dataset_path):\n",
        "  weather_labels = {'Rainy': 0, 'Sunny': 1, 'Cloudy': 2}\n",
        "  locations = ['PUC', 'UFPR04', 'UFPR05']\n",
        "  rainy_images = []\n",
        "  sunny_images = []\n",
        "  cloudy_images = []\n",
        "\n",
        "  for weather, label in weather_labels.items():\n",
        "    for location in locations:\n",
        "      for root, _ , files in os.walk(os.path.join(dataset_path, location, weather)):\n",
        "        sampled_files = random.sample(files, int(0.25 * len(files)))\n",
        "        for file in sampled_files:\n",
        "          if file.endswith('.jpg'):\n",
        "            img_path = os.path.join(root, file)\n",
        "            img = cv2.imread(img_path)\n",
        "            img = cv2.resize(img, (224, 224))\n",
        "            img = img_to_array(img)\n",
        "            if weather == 'Rainy':\n",
        "              rainy_images.append([img, label, img_path])\n",
        "            elif weather == 'Sunny':\n",
        "              sunny_images.append([img, label, img_path])\n",
        "            elif weather == 'Cloudy':\n",
        "              cloudy_images.append([img, label, img_path])\n",
        "\n",
        "  return np.array(rainy_images, dtype=object), np.array(sunny_images, dtype=object), np.array(cloudy_images, dtype=object)"
      ]
    },
    {
      "cell_type": "code",
      "execution_count": 69,
      "metadata": {
        "id": "QA_QBv26yzc3"
      },
      "outputs": [],
      "source": [
        "# Example usage\n",
        "dataset_path = 'D:\\\\PKLot (1)\\\\PKLot'  # Replace with the actual path to your dataset\n",
        "rainy_data, sunny_data, cloudy_data = prepare_dataset(dataset_path)"
      ]
    },
    {
      "cell_type": "code",
      "execution_count": 70,
      "metadata": {
        "colab": {
          "base_uri": "https://localhost:8080/"
        },
        "id": "F6dSH0iO-Xlw",
        "outputId": "526821e3-d3ab-4d80-fdb6-f25cb6f93165"
      },
      "outputs": [
        {
          "name": "stdout",
          "output_type": "stream",
          "text": [
            "(127, 3)\n",
            "(1138, 3)\n",
            "(725, 3)\n"
          ]
        }
      ],
      "source": [
        "\n",
        "print(rainy_data.shape)\n",
        "print(sunny_data.shape)\n",
        "print(cloudy_data.shape)"
      ]
    },
    {
      "cell_type": "code",
      "execution_count": 71,
      "metadata": {},
      "outputs": [
        {
          "name": "stdout",
          "output_type": "stream",
          "text": [
            "[array([[[ 86., 127., 110.],\n",
            "         [ 77., 160., 142.],\n",
            "         [ 87., 141., 131.],\n",
            "         ...,\n",
            "         [ 59.,  74.,  70.],\n",
            "         [ 58.,  62.,  63.],\n",
            "         [ 56.,  64.,  59.]],\n",
            "\n",
            "        [[ 62.,  87.,  76.],\n",
            "         [ 80., 157., 140.],\n",
            "         [ 96., 144., 134.],\n",
            "         ...,\n",
            "         [ 66.,  90.,  82.],\n",
            "         [ 56.,  74.,  70.],\n",
            "         [ 57.,  85.,  79.]],\n",
            "\n",
            "        [[ 49.,  65.,  58.],\n",
            "         [ 84., 156., 139.],\n",
            "         [ 95., 157., 141.],\n",
            "         ...,\n",
            "         [ 66.,  90.,  86.],\n",
            "         [ 61.,  82.,  78.],\n",
            "         [ 59.,  83.,  82.]],\n",
            "\n",
            "        ...,\n",
            "\n",
            "        [[133., 141., 155.],\n",
            "         [ 99.,  92., 106.],\n",
            "         [111., 119., 130.],\n",
            "         ...,\n",
            "         [ 63.,  57., 120.],\n",
            "         [ 56.,  51., 109.],\n",
            "         [ 51.,  49.,  85.]],\n",
            "\n",
            "        [[132., 137., 151.],\n",
            "         [ 98.,  94., 110.],\n",
            "         [109., 121., 135.],\n",
            "         ...,\n",
            "         [ 53.,  50., 111.],\n",
            "         [ 53.,  51.,  96.],\n",
            "         [ 67.,  63.,  91.]],\n",
            "\n",
            "        [[126., 134., 143.],\n",
            "         [ 91.,  95., 104.],\n",
            "         [113., 123., 140.],\n",
            "         ...,\n",
            "         [ 49.,  51.,  91.],\n",
            "         [ 55.,  53.,  99.],\n",
            "         [ 58.,  55.,  98.]]], dtype=float32) 0\n",
            " 'D:\\\\PKLot (1)\\\\PKLot\\\\UFPR04\\\\Rainy\\\\2012-12-07\\\\2012-12-07_17_02_25.jpg']\n"
          ]
        }
      ],
      "source": [
        "print(rainy_data[0])"
      ]
    },
    {
      "cell_type": "markdown",
      "metadata": {
        "id": "3MfQhYI5KZNy"
      },
      "source": [
        "# Separa em treino e validação"
      ]
    },
    {
      "cell_type": "code",
      "execution_count": 72,
      "metadata": {
        "id": "iYphOxTeKZNy"
      },
      "outputs": [],
      "source": [
        "weather_data = np.concatenate((rainy_data, sunny_data, cloudy_data))\n",
        "\n",
        "np.random.shuffle(weather_data)\n",
        "\n",
        "# Extrair as imagens e labels\n",
        "weather_images = np.array([item[0] for item in weather_data])\n",
        "weather_labels = np.array([item[1] for item in weather_data])\n",
        "weather_paths = np.array([item[2] for item in weather_data])"
      ]
    },
    {
      "cell_type": "markdown",
      "metadata": {
        "id": "S0d1KqZkKZNz"
      },
      "source": [
        "# Modelo (Transfer Learning com MobileNetV2)"
      ]
    },
    {
      "cell_type": "code",
      "execution_count": 73,
      "metadata": {
        "id": "jKQ-9SWDKZN0"
      },
      "outputs": [],
      "source": [
        "mobilenet_model = tf.keras.applications.MobileNetV2(input_shape=(224,224,3),\n",
        "                                               include_top=False,\n",
        "                                               weights='imagenet')"
      ]
    },
    {
      "cell_type": "code",
      "execution_count": 74,
      "metadata": {
        "id": "qMUNPQQ3trjl"
      },
      "outputs": [],
      "source": [
        "for layer in mobilenet_model.layers:\n",
        "  layer.trainable = False"
      ]
    },
    {
      "cell_type": "code",
      "execution_count": 75,
      "metadata": {
        "id": "DTBMzfglKZN1"
      },
      "outputs": [
        {
          "name": "stdout",
          "output_type": "stream",
          "text": [
            "\u001b[1m63/63\u001b[0m \u001b[32m━━━━━━━━━━━━━━━━━━━━\u001b[0m\u001b[37m\u001b[0m \u001b[1m23s\u001b[0m 353ms/step\n"
          ]
        }
      ],
      "source": [
        "mobilenet_output = GlobalAveragePooling2D()(mobilenet_model.output)\n",
        "mobilenet_model = Model(inputs=mobilenet_model.input, outputs=mobilenet_output)\n",
        "mobilenet_features = mobilenet_model.predict(weather_images)"
      ]
    },
    {
      "cell_type": "code",
      "execution_count": 76,
      "metadata": {
        "id": "pIJv0F35yRTF"
      },
      "outputs": [],
      "source": [
        "np.save('mobilenet_features.npy', mobilenet_features)\n",
        "\n"
      ]
    },
    {
      "cell_type": "markdown",
      "metadata": {
        "id": "IhB5F6aaZK6F"
      },
      "source": [
        "\n",
        "\n",
        "# Modelo (Transfer Learning com DenseNet)\n"
      ]
    },
    {
      "cell_type": "code",
      "execution_count": 77,
      "metadata": {
        "id": "sb4SOF3QYvWq"
      },
      "outputs": [],
      "source": [
        "densenet_model = tf.keras.applications.DenseNet121(input_shape=(224, 224, 3),\n",
        "                                                   include_top=False,\n",
        "                                                   weights=\"imagenet\")"
      ]
    },
    {
      "cell_type": "code",
      "execution_count": 78,
      "metadata": {
        "id": "BZCMXnSct-Jx"
      },
      "outputs": [],
      "source": [
        "for layer in densenet_model.layers:\n",
        "  layer.trainable = False"
      ]
    },
    {
      "cell_type": "code",
      "execution_count": 79,
      "metadata": {
        "id": "hiinuCFjuBpb"
      },
      "outputs": [
        {
          "name": "stdout",
          "output_type": "stream",
          "text": [
            "\u001b[1m63/63\u001b[0m \u001b[32m━━━━━━━━━━━━━━━━━━━━\u001b[0m\u001b[37m\u001b[0m \u001b[1m73s\u001b[0m 1s/step\n"
          ]
        }
      ],
      "source": [
        "densenet_output = GlobalAveragePooling2D()(densenet_model.output)\n",
        "densenet_model = Model(inputs=densenet_model.input, outputs=densenet_output)\n",
        "densenet_features = densenet_model.predict(weather_images)"
      ]
    },
    {
      "cell_type": "markdown",
      "metadata": {
        "id": "nR4UDFG6uLYa"
      },
      "source": [
        "# Combined Features"
      ]
    },
    {
      "cell_type": "code",
      "execution_count": 80,
      "metadata": {},
      "outputs": [
        {
          "name": "stdout",
          "output_type": "stream",
          "text": [
            "(1990, 1024)\n",
            "(1990, 1280)\n"
          ]
        }
      ],
      "source": [
        "print(densenet_features.shape)\n",
        "print(mobilenet_features.shape)\n"
      ]
    },
    {
      "cell_type": "code",
      "execution_count": 81,
      "metadata": {
        "colab": {
          "base_uri": "https://localhost:8080/",
          "height": 176
        },
        "id": "FcFr3AHUY_wl",
        "outputId": "ccbb8674-ae88-4cee-d305-39ee87f392fa"
      },
      "outputs": [],
      "source": [
        "combined_features = np.concatenate([mobilenet_features, densenet_features], axis=-1)"
      ]
    },
    {
      "cell_type": "markdown",
      "metadata": {},
      "source": [
        "# Crie e treine o classificador KNN"
      ]
    },
    {
      "cell_type": "code",
      "execution_count": 82,
      "metadata": {},
      "outputs": [
        {
          "data": {
            "text/html": [
              "<style>#sk-container-id-3 {\n",
              "  /* Definition of color scheme common for light and dark mode */\n",
              "  --sklearn-color-text: black;\n",
              "  --sklearn-color-line: gray;\n",
              "  /* Definition of color scheme for unfitted estimators */\n",
              "  --sklearn-color-unfitted-level-0: #fff5e6;\n",
              "  --sklearn-color-unfitted-level-1: #f6e4d2;\n",
              "  --sklearn-color-unfitted-level-2: #ffe0b3;\n",
              "  --sklearn-color-unfitted-level-3: chocolate;\n",
              "  /* Definition of color scheme for fitted estimators */\n",
              "  --sklearn-color-fitted-level-0: #f0f8ff;\n",
              "  --sklearn-color-fitted-level-1: #d4ebff;\n",
              "  --sklearn-color-fitted-level-2: #b3dbfd;\n",
              "  --sklearn-color-fitted-level-3: cornflowerblue;\n",
              "\n",
              "  /* Specific color for light theme */\n",
              "  --sklearn-color-text-on-default-background: var(--sg-text-color, var(--theme-code-foreground, var(--jp-content-font-color1, black)));\n",
              "  --sklearn-color-background: var(--sg-background-color, var(--theme-background, var(--jp-layout-color0, white)));\n",
              "  --sklearn-color-border-box: var(--sg-text-color, var(--theme-code-foreground, var(--jp-content-font-color1, black)));\n",
              "  --sklearn-color-icon: #696969;\n",
              "\n",
              "  @media (prefers-color-scheme: dark) {\n",
              "    /* Redefinition of color scheme for dark theme */\n",
              "    --sklearn-color-text-on-default-background: var(--sg-text-color, var(--theme-code-foreground, var(--jp-content-font-color1, white)));\n",
              "    --sklearn-color-background: var(--sg-background-color, var(--theme-background, var(--jp-layout-color0, #111)));\n",
              "    --sklearn-color-border-box: var(--sg-text-color, var(--theme-code-foreground, var(--jp-content-font-color1, white)));\n",
              "    --sklearn-color-icon: #878787;\n",
              "  }\n",
              "}\n",
              "\n",
              "#sk-container-id-3 {\n",
              "  color: var(--sklearn-color-text);\n",
              "}\n",
              "\n",
              "#sk-container-id-3 pre {\n",
              "  padding: 0;\n",
              "}\n",
              "\n",
              "#sk-container-id-3 input.sk-hidden--visually {\n",
              "  border: 0;\n",
              "  clip: rect(1px 1px 1px 1px);\n",
              "  clip: rect(1px, 1px, 1px, 1px);\n",
              "  height: 1px;\n",
              "  margin: -1px;\n",
              "  overflow: hidden;\n",
              "  padding: 0;\n",
              "  position: absolute;\n",
              "  width: 1px;\n",
              "}\n",
              "\n",
              "#sk-container-id-3 div.sk-dashed-wrapped {\n",
              "  border: 1px dashed var(--sklearn-color-line);\n",
              "  margin: 0 0.4em 0.5em 0.4em;\n",
              "  box-sizing: border-box;\n",
              "  padding-bottom: 0.4em;\n",
              "  background-color: var(--sklearn-color-background);\n",
              "}\n",
              "\n",
              "#sk-container-id-3 div.sk-container {\n",
              "  /* jupyter's `normalize.less` sets `[hidden] { display: none; }`\n",
              "     but bootstrap.min.css set `[hidden] { display: none !important; }`\n",
              "     so we also need the `!important` here to be able to override the\n",
              "     default hidden behavior on the sphinx rendered scikit-learn.org.\n",
              "     See: https://github.com/scikit-learn/scikit-learn/issues/21755 */\n",
              "  display: inline-block !important;\n",
              "  position: relative;\n",
              "}\n",
              "\n",
              "#sk-container-id-3 div.sk-text-repr-fallback {\n",
              "  display: none;\n",
              "}\n",
              "\n",
              "div.sk-parallel-item,\n",
              "div.sk-serial,\n",
              "div.sk-item {\n",
              "  /* draw centered vertical line to link estimators */\n",
              "  background-image: linear-gradient(var(--sklearn-color-text-on-default-background), var(--sklearn-color-text-on-default-background));\n",
              "  background-size: 2px 100%;\n",
              "  background-repeat: no-repeat;\n",
              "  background-position: center center;\n",
              "}\n",
              "\n",
              "/* Parallel-specific style estimator block */\n",
              "\n",
              "#sk-container-id-3 div.sk-parallel-item::after {\n",
              "  content: \"\";\n",
              "  width: 100%;\n",
              "  border-bottom: 2px solid var(--sklearn-color-text-on-default-background);\n",
              "  flex-grow: 1;\n",
              "}\n",
              "\n",
              "#sk-container-id-3 div.sk-parallel {\n",
              "  display: flex;\n",
              "  align-items: stretch;\n",
              "  justify-content: center;\n",
              "  background-color: var(--sklearn-color-background);\n",
              "  position: relative;\n",
              "}\n",
              "\n",
              "#sk-container-id-3 div.sk-parallel-item {\n",
              "  display: flex;\n",
              "  flex-direction: column;\n",
              "}\n",
              "\n",
              "#sk-container-id-3 div.sk-parallel-item:first-child::after {\n",
              "  align-self: flex-end;\n",
              "  width: 50%;\n",
              "}\n",
              "\n",
              "#sk-container-id-3 div.sk-parallel-item:last-child::after {\n",
              "  align-self: flex-start;\n",
              "  width: 50%;\n",
              "}\n",
              "\n",
              "#sk-container-id-3 div.sk-parallel-item:only-child::after {\n",
              "  width: 0;\n",
              "}\n",
              "\n",
              "/* Serial-specific style estimator block */\n",
              "\n",
              "#sk-container-id-3 div.sk-serial {\n",
              "  display: flex;\n",
              "  flex-direction: column;\n",
              "  align-items: center;\n",
              "  background-color: var(--sklearn-color-background);\n",
              "  padding-right: 1em;\n",
              "  padding-left: 1em;\n",
              "}\n",
              "\n",
              "\n",
              "/* Toggleable style: style used for estimator/Pipeline/ColumnTransformer box that is\n",
              "clickable and can be expanded/collapsed.\n",
              "- Pipeline and ColumnTransformer use this feature and define the default style\n",
              "- Estimators will overwrite some part of the style using the `sk-estimator` class\n",
              "*/\n",
              "\n",
              "/* Pipeline and ColumnTransformer style (default) */\n",
              "\n",
              "#sk-container-id-3 div.sk-toggleable {\n",
              "  /* Default theme specific background. It is overwritten whether we have a\n",
              "  specific estimator or a Pipeline/ColumnTransformer */\n",
              "  background-color: var(--sklearn-color-background);\n",
              "}\n",
              "\n",
              "/* Toggleable label */\n",
              "#sk-container-id-3 label.sk-toggleable__label {\n",
              "  cursor: pointer;\n",
              "  display: block;\n",
              "  width: 100%;\n",
              "  margin-bottom: 0;\n",
              "  padding: 0.5em;\n",
              "  box-sizing: border-box;\n",
              "  text-align: center;\n",
              "}\n",
              "\n",
              "#sk-container-id-3 label.sk-toggleable__label-arrow:before {\n",
              "  /* Arrow on the left of the label */\n",
              "  content: \"▸\";\n",
              "  float: left;\n",
              "  margin-right: 0.25em;\n",
              "  color: var(--sklearn-color-icon);\n",
              "}\n",
              "\n",
              "#sk-container-id-3 label.sk-toggleable__label-arrow:hover:before {\n",
              "  color: var(--sklearn-color-text);\n",
              "}\n",
              "\n",
              "/* Toggleable content - dropdown */\n",
              "\n",
              "#sk-container-id-3 div.sk-toggleable__content {\n",
              "  max-height: 0;\n",
              "  max-width: 0;\n",
              "  overflow: hidden;\n",
              "  text-align: left;\n",
              "  /* unfitted */\n",
              "  background-color: var(--sklearn-color-unfitted-level-0);\n",
              "}\n",
              "\n",
              "#sk-container-id-3 div.sk-toggleable__content.fitted {\n",
              "  /* fitted */\n",
              "  background-color: var(--sklearn-color-fitted-level-0);\n",
              "}\n",
              "\n",
              "#sk-container-id-3 div.sk-toggleable__content pre {\n",
              "  margin: 0.2em;\n",
              "  border-radius: 0.25em;\n",
              "  color: var(--sklearn-color-text);\n",
              "  /* unfitted */\n",
              "  background-color: var(--sklearn-color-unfitted-level-0);\n",
              "}\n",
              "\n",
              "#sk-container-id-3 div.sk-toggleable__content.fitted pre {\n",
              "  /* unfitted */\n",
              "  background-color: var(--sklearn-color-fitted-level-0);\n",
              "}\n",
              "\n",
              "#sk-container-id-3 input.sk-toggleable__control:checked~div.sk-toggleable__content {\n",
              "  /* Expand drop-down */\n",
              "  max-height: 200px;\n",
              "  max-width: 100%;\n",
              "  overflow: auto;\n",
              "}\n",
              "\n",
              "#sk-container-id-3 input.sk-toggleable__control:checked~label.sk-toggleable__label-arrow:before {\n",
              "  content: \"▾\";\n",
              "}\n",
              "\n",
              "/* Pipeline/ColumnTransformer-specific style */\n",
              "\n",
              "#sk-container-id-3 div.sk-label input.sk-toggleable__control:checked~label.sk-toggleable__label {\n",
              "  color: var(--sklearn-color-text);\n",
              "  background-color: var(--sklearn-color-unfitted-level-2);\n",
              "}\n",
              "\n",
              "#sk-container-id-3 div.sk-label.fitted input.sk-toggleable__control:checked~label.sk-toggleable__label {\n",
              "  background-color: var(--sklearn-color-fitted-level-2);\n",
              "}\n",
              "\n",
              "/* Estimator-specific style */\n",
              "\n",
              "/* Colorize estimator box */\n",
              "#sk-container-id-3 div.sk-estimator input.sk-toggleable__control:checked~label.sk-toggleable__label {\n",
              "  /* unfitted */\n",
              "  background-color: var(--sklearn-color-unfitted-level-2);\n",
              "}\n",
              "\n",
              "#sk-container-id-3 div.sk-estimator.fitted input.sk-toggleable__control:checked~label.sk-toggleable__label {\n",
              "  /* fitted */\n",
              "  background-color: var(--sklearn-color-fitted-level-2);\n",
              "}\n",
              "\n",
              "#sk-container-id-3 div.sk-label label.sk-toggleable__label,\n",
              "#sk-container-id-3 div.sk-label label {\n",
              "  /* The background is the default theme color */\n",
              "  color: var(--sklearn-color-text-on-default-background);\n",
              "}\n",
              "\n",
              "/* On hover, darken the color of the background */\n",
              "#sk-container-id-3 div.sk-label:hover label.sk-toggleable__label {\n",
              "  color: var(--sklearn-color-text);\n",
              "  background-color: var(--sklearn-color-unfitted-level-2);\n",
              "}\n",
              "\n",
              "/* Label box, darken color on hover, fitted */\n",
              "#sk-container-id-3 div.sk-label.fitted:hover label.sk-toggleable__label.fitted {\n",
              "  color: var(--sklearn-color-text);\n",
              "  background-color: var(--sklearn-color-fitted-level-2);\n",
              "}\n",
              "\n",
              "/* Estimator label */\n",
              "\n",
              "#sk-container-id-3 div.sk-label label {\n",
              "  font-family: monospace;\n",
              "  font-weight: bold;\n",
              "  display: inline-block;\n",
              "  line-height: 1.2em;\n",
              "}\n",
              "\n",
              "#sk-container-id-3 div.sk-label-container {\n",
              "  text-align: center;\n",
              "}\n",
              "\n",
              "/* Estimator-specific */\n",
              "#sk-container-id-3 div.sk-estimator {\n",
              "  font-family: monospace;\n",
              "  border: 1px dotted var(--sklearn-color-border-box);\n",
              "  border-radius: 0.25em;\n",
              "  box-sizing: border-box;\n",
              "  margin-bottom: 0.5em;\n",
              "  /* unfitted */\n",
              "  background-color: var(--sklearn-color-unfitted-level-0);\n",
              "}\n",
              "\n",
              "#sk-container-id-3 div.sk-estimator.fitted {\n",
              "  /* fitted */\n",
              "  background-color: var(--sklearn-color-fitted-level-0);\n",
              "}\n",
              "\n",
              "/* on hover */\n",
              "#sk-container-id-3 div.sk-estimator:hover {\n",
              "  /* unfitted */\n",
              "  background-color: var(--sklearn-color-unfitted-level-2);\n",
              "}\n",
              "\n",
              "#sk-container-id-3 div.sk-estimator.fitted:hover {\n",
              "  /* fitted */\n",
              "  background-color: var(--sklearn-color-fitted-level-2);\n",
              "}\n",
              "\n",
              "/* Specification for estimator info (e.g. \"i\" and \"?\") */\n",
              "\n",
              "/* Common style for \"i\" and \"?\" */\n",
              "\n",
              ".sk-estimator-doc-link,\n",
              "a:link.sk-estimator-doc-link,\n",
              "a:visited.sk-estimator-doc-link {\n",
              "  float: right;\n",
              "  font-size: smaller;\n",
              "  line-height: 1em;\n",
              "  font-family: monospace;\n",
              "  background-color: var(--sklearn-color-background);\n",
              "  border-radius: 1em;\n",
              "  height: 1em;\n",
              "  width: 1em;\n",
              "  text-decoration: none !important;\n",
              "  margin-left: 1ex;\n",
              "  /* unfitted */\n",
              "  border: var(--sklearn-color-unfitted-level-1) 1pt solid;\n",
              "  color: var(--sklearn-color-unfitted-level-1);\n",
              "}\n",
              "\n",
              ".sk-estimator-doc-link.fitted,\n",
              "a:link.sk-estimator-doc-link.fitted,\n",
              "a:visited.sk-estimator-doc-link.fitted {\n",
              "  /* fitted */\n",
              "  border: var(--sklearn-color-fitted-level-1) 1pt solid;\n",
              "  color: var(--sklearn-color-fitted-level-1);\n",
              "}\n",
              "\n",
              "/* On hover */\n",
              "div.sk-estimator:hover .sk-estimator-doc-link:hover,\n",
              ".sk-estimator-doc-link:hover,\n",
              "div.sk-label-container:hover .sk-estimator-doc-link:hover,\n",
              ".sk-estimator-doc-link:hover {\n",
              "  /* unfitted */\n",
              "  background-color: var(--sklearn-color-unfitted-level-3);\n",
              "  color: var(--sklearn-color-background);\n",
              "  text-decoration: none;\n",
              "}\n",
              "\n",
              "div.sk-estimator.fitted:hover .sk-estimator-doc-link.fitted:hover,\n",
              ".sk-estimator-doc-link.fitted:hover,\n",
              "div.sk-label-container:hover .sk-estimator-doc-link.fitted:hover,\n",
              ".sk-estimator-doc-link.fitted:hover {\n",
              "  /* fitted */\n",
              "  background-color: var(--sklearn-color-fitted-level-3);\n",
              "  color: var(--sklearn-color-background);\n",
              "  text-decoration: none;\n",
              "}\n",
              "\n",
              "/* Span, style for the box shown on hovering the info icon */\n",
              ".sk-estimator-doc-link span {\n",
              "  display: none;\n",
              "  z-index: 9999;\n",
              "  position: relative;\n",
              "  font-weight: normal;\n",
              "  right: .2ex;\n",
              "  padding: .5ex;\n",
              "  margin: .5ex;\n",
              "  width: min-content;\n",
              "  min-width: 20ex;\n",
              "  max-width: 50ex;\n",
              "  color: var(--sklearn-color-text);\n",
              "  box-shadow: 2pt 2pt 4pt #999;\n",
              "  /* unfitted */\n",
              "  background: var(--sklearn-color-unfitted-level-0);\n",
              "  border: .5pt solid var(--sklearn-color-unfitted-level-3);\n",
              "}\n",
              "\n",
              ".sk-estimator-doc-link.fitted span {\n",
              "  /* fitted */\n",
              "  background: var(--sklearn-color-fitted-level-0);\n",
              "  border: var(--sklearn-color-fitted-level-3);\n",
              "}\n",
              "\n",
              ".sk-estimator-doc-link:hover span {\n",
              "  display: block;\n",
              "}\n",
              "\n",
              "/* \"?\"-specific style due to the `<a>` HTML tag */\n",
              "\n",
              "#sk-container-id-3 a.estimator_doc_link {\n",
              "  float: right;\n",
              "  font-size: 1rem;\n",
              "  line-height: 1em;\n",
              "  font-family: monospace;\n",
              "  background-color: var(--sklearn-color-background);\n",
              "  border-radius: 1rem;\n",
              "  height: 1rem;\n",
              "  width: 1rem;\n",
              "  text-decoration: none;\n",
              "  /* unfitted */\n",
              "  color: var(--sklearn-color-unfitted-level-1);\n",
              "  border: var(--sklearn-color-unfitted-level-1) 1pt solid;\n",
              "}\n",
              "\n",
              "#sk-container-id-3 a.estimator_doc_link.fitted {\n",
              "  /* fitted */\n",
              "  border: var(--sklearn-color-fitted-level-1) 1pt solid;\n",
              "  color: var(--sklearn-color-fitted-level-1);\n",
              "}\n",
              "\n",
              "/* On hover */\n",
              "#sk-container-id-3 a.estimator_doc_link:hover {\n",
              "  /* unfitted */\n",
              "  background-color: var(--sklearn-color-unfitted-level-3);\n",
              "  color: var(--sklearn-color-background);\n",
              "  text-decoration: none;\n",
              "}\n",
              "\n",
              "#sk-container-id-3 a.estimator_doc_link.fitted:hover {\n",
              "  /* fitted */\n",
              "  background-color: var(--sklearn-color-fitted-level-3);\n",
              "}\n",
              "</style><div id=\"sk-container-id-3\" class=\"sk-top-container\"><div class=\"sk-text-repr-fallback\"><pre>KNeighborsClassifier(n_neighbors=3)</pre><b>In a Jupyter environment, please rerun this cell to show the HTML representation or trust the notebook. <br />On GitHub, the HTML representation is unable to render, please try loading this page with nbviewer.org.</b></div><div class=\"sk-container\" hidden><div class=\"sk-item\"><div class=\"sk-estimator fitted sk-toggleable\"><input class=\"sk-toggleable__control sk-hidden--visually\" id=\"sk-estimator-id-3\" type=\"checkbox\" checked><label for=\"sk-estimator-id-3\" class=\"sk-toggleable__label fitted sk-toggleable__label-arrow fitted\">&nbsp;&nbsp;KNeighborsClassifier<a class=\"sk-estimator-doc-link fitted\" rel=\"noreferrer\" target=\"_blank\" href=\"https://scikit-learn.org/1.5/modules/generated/sklearn.neighbors.KNeighborsClassifier.html\">?<span>Documentation for KNeighborsClassifier</span></a><span class=\"sk-estimator-doc-link fitted\">i<span>Fitted</span></span></label><div class=\"sk-toggleable__content fitted\"><pre>KNeighborsClassifier(n_neighbors=3)</pre></div> </div></div></div></div>"
            ],
            "text/plain": [
              "KNeighborsClassifier(n_neighbors=3)"
            ]
          },
          "execution_count": 82,
          "metadata": {},
          "output_type": "execute_result"
        }
      ],
      "source": [
        "X_train, X_test, y_train, y_test = train_test_split(\n",
        "    combined_features, weather_labels, test_size=0.2, random_state=42\n",
        ")\n",
        "knn = KNeighborsClassifier(n_neighbors=3)\n",
        "knn.fit(X_train, y_train)"
      ]
    },
    {
      "cell_type": "code",
      "execution_count": 83,
      "metadata": {},
      "outputs": [
        {
          "name": "stdout",
          "output_type": "stream",
          "text": [
            "Acurácia do KNN: 0.9020100502512562\n"
          ]
        }
      ],
      "source": [
        "\n",
        "accuracy = knn.score(X_test, y_test)\n",
        "print(f\"Acurácia do KNN: {accuracy}\")"
      ]
    },
    {
      "cell_type": "code",
      "execution_count": 85,
      "metadata": {},
      "outputs": [
        {
          "name": "stdout",
          "output_type": "stream",
          "text": [
            "22\n",
            "235\n",
            "141\n"
          ]
        }
      ],
      "source": [
        "predictions = knn.predict(X_train)\n",
        "\n",
        "image_predictions = [[image, prediction, path] for image, prediction, path in zip(X_test, predictions, weather_paths)]\n",
        "rainy_predictions = []\n",
        "cloudy_predictions = []\n",
        "sunny_predictions = []\n",
        "\n",
        "for image, prediction, image_path in image_predictions:\n",
        "    xml_path = image_path.replace('.jpg', '.xml')\n",
        "    if prediction == 0:\n",
        "        rainy_predictions.append([image, prediction, xml_path])\n",
        "    elif prediction == 1:\n",
        "        sunny_predictions.append([image, prediction, xml_path])\n",
        "    elif prediction == 2:\n",
        "        cloudy_predictions.append([image, prediction, xml_path])\n",
        "\n",
        "print(len(rainy_predictions))\n",
        "print(len(sunny_predictions))\n",
        "print(len(cloudy_predictions))"
      ]
    },
    {
      "cell_type": "code",
      "execution_count": 86,
      "metadata": {},
      "outputs": [
        {
          "data": {
            "text/plain": [
              "[array([0.10606924, 0.43139455, 0.        , ..., 1.2523121 , 9.043868  ,\n",
              "        3.5350213 ], dtype=float32),\n",
              " 0,\n",
              " 'D:\\\\PKLot (1)\\\\PKLot\\\\UFPR05\\\\Sunny\\\\2013-03-10\\\\2013-03-10_09_25_03.xml']"
            ]
          },
          "execution_count": 86,
          "metadata": {},
          "output_type": "execute_result"
        }
      ],
      "source": [
        "rainy_predictions[0]"
      ]
    },
    {
      "cell_type": "code",
      "execution_count": 132,
      "metadata": {},
      "outputs": [],
      "source": [
        "import numpy as np\n",
        "import cv2\n",
        "import matplotlib.pyplot as plt\n",
        "import xml.etree.ElementTree as ET\n",
        "\n",
        "def extract_data(rainy_predictions):\n",
        "    rois = []\n",
        "    labels = []\n",
        "\n",
        "    for image, _, image_path in rainy_predictions:\n",
        "        image = image.astype(np.uint8)\n",
        "        xml_path = image_path.replace('.jpg', '.xml')\n",
        "        tree = ET.parse(xml_path)\n",
        "        root = tree.getroot()\n",
        "\n",
        "        for space in root.findall('space'):\n",
        "            occupied = space.get('occupied')\n",
        "\n",
        "            if occupied is None:\n",
        "                print(\"Atributo 'occupied' não encontrado. Pulando para o próximo espaço.\")\n",
        "                continue\n",
        "\n",
        "            occupied = int(occupied)\n",
        "\n",
        "            contour = space.find('contour')\n",
        "            points = []\n",
        "            for point in contour.findall('point') + contour.findall('Point'):\n",
        "                x = int(point.get('x'))\n",
        "                y = int(point.get('y'))\n",
        "                points.append([x, y])\n",
        "\n",
        "            points_np = np.array(points, dtype=np.int32)\n",
        "            mask = np.zeros(image.shape[:2], dtype=np.uint8)\n",
        "\n",
        "            if len(points_np) > 0:\n",
        "                cv2.fillPoly(mask, [points_np], 255)\n",
        "                roi = cv2.bitwise_and(image, image, mask=mask)\n",
        "\n",
        "                if roi.size > 0:  # Verifica se ROI não está vazia\n",
        "                    rois.append(roi)\n",
        "                    labels.append(occupied)\n",
        "                else:\n",
        "                    print(f\"ROI vazia para a imagem: {image_path}\")\n",
        "\n",
        "    return rois, labels\n",
        "\n",
        "\n"
      ]
    },
    {
      "cell_type": "code",
      "execution_count": 140,
      "metadata": {},
      "outputs": [
        {
          "name": "stdout",
          "output_type": "stream",
          "text": [
            "Atributo 'occupied' não encontrado. Pulando para o próximo espaço.\n",
            "Atributo 'occupied' não encontrado. Pulando para o próximo espaço.\n",
            "Atributo 'occupied' não encontrado. Pulando para o próximo espaço.\n",
            "Atributo 'occupied' não encontrado. Pulando para o próximo espaço.\n",
            "Atributo 'occupied' não encontrado. Pulando para o próximo espaço.\n",
            "Atributo 'occupied' não encontrado. Pulando para o próximo espaço.\n",
            "Dimensões da imagem antes do redimensionamento: 1x2304\n",
            "Novo tamanho inválido: (0, 800)\n",
            "Imagem 0 não pôde ser exibida devido a erros.\n",
            "Dimensões da imagem antes do redimensionamento: 1x2304\n",
            "Novo tamanho inválido: (0, 800)\n",
            "Imagem 1 não pôde ser exibida devido a erros.\n",
            "Dimensões da imagem antes do redimensionamento: 1x2304\n",
            "Novo tamanho inválido: (0, 800)\n",
            "Imagem 2 não pôde ser exibida devido a erros.\n",
            "Dimensões da imagem antes do redimensionamento: 1x2304\n",
            "Novo tamanho inválido: (0, 800)\n",
            "Imagem 3 não pôde ser exibida devido a erros.\n",
            "Dimensões da imagem antes do redimensionamento: 1x2304\n",
            "Novo tamanho inválido: (0, 800)\n",
            "Imagem 4 não pôde ser exibida devido a erros.\n",
            "Dimensões da imagem antes do redimensionamento: 1x2304\n",
            "Novo tamanho inválido: (0, 800)\n",
            "Imagem 5 não pôde ser exibida devido a erros.\n",
            "Dimensões da imagem antes do redimensionamento: 1x2304\n",
            "Novo tamanho inválido: (0, 800)\n",
            "Imagem 6 não pôde ser exibida devido a erros.\n",
            "Dimensões da imagem antes do redimensionamento: 1x2304\n",
            "Novo tamanho inválido: (0, 800)\n",
            "Imagem 7 não pôde ser exibida devido a erros.\n",
            "Dimensões da imagem antes do redimensionamento: 1x2304\n",
            "Novo tamanho inválido: (0, 800)\n",
            "Imagem 8 não pôde ser exibida devido a erros.\n",
            "Dimensões da imagem antes do redimensionamento: 1x2304\n",
            "Novo tamanho inválido: (0, 800)\n",
            "Imagem 9 não pôde ser exibida devido a erros.\n"
          ]
        },
        {
          "data": {
            "image/png": "[encoded data removed]",
            "text/plain": [
              "<Figure size 1500x2000 with 10 Axes>"
            ]
          },
          "metadata": {},
          "output_type": "display_data"
        }
      ],
      "source": [
        "def resize_image(image, max_size=(800, 800)):\n",
        "    if image is None or image.size == 0:\n",
        "        print(\"Imagem vazia ou não válida.\")\n",
        "        return None\n",
        "\n",
        "    height, width = image.shape[:2]\n",
        "    print(f\"Dimensões da imagem antes do redimensionamento: {width}x{height}\")\n",
        "\n",
        "    if height <= 0 or width <= 0:\n",
        "        print(f\"Dimensões inválidas da imagem: {width}x{height}\")\n",
        "        return None\n",
        "\n",
        "    if height > 4000 or width > 4000:\n",
        "        scaling_factor = min(4000 / height, 4000 / width)\n",
        "        new_size = (int(width * scaling_factor), int(height * scaling_factor))\n",
        "        image = cv2.resize(image, new_size)\n",
        "        height, width = new_size  # Atualiza altura e largura após o redimensionamento\n",
        "\n",
        "    if height > max_size[0] or width > max_size[1]:\n",
        "        scaling_factor = min(max_size[0] / height, max_size[1] / width)\n",
        "        new_size = (int(width * scaling_factor), int(height * scaling_factor))\n",
        "        \n",
        "        # Verifica novamente se new_size é válido\n",
        "        if new_size[0] <= 0 or new_size[1] <= 0:\n",
        "            print(f\"Novo tamanho inválido: {new_size}\")\n",
        "            return None\n",
        "        \n",
        "        print(f\"Redimensionando imagem para: {new_size}\")\n",
        "        return cv2.resize(image, new_size)\n",
        "\n",
        "    return image\n",
        "\n",
        "\n",
        "def visualize_rois(rois, labels, max_images=10):\n",
        "    if not rois:\n",
        "        print(\"Não há regiões de interesse para exibir.\")\n",
        "        return\n",
        "\n",
        "    num_rois = min(len(rois), max_images)  # Limitar o número de imagens exibidas\n",
        "    cols = 3\n",
        "    rows = (num_rois + cols - 1) // cols\n",
        "\n",
        "    plt.figure(figsize=(15, 5 * rows))\n",
        "\n",
        "    for i in range(num_rois):\n",
        "        plt.subplot(rows, cols, i + 1)\n",
        "        resized_image = resize_image(rois[i])\n",
        "\n",
        "        if resized_image is not None and resized_image.size > 0:\n",
        "            plt.imshow(cv2.cvtColor(resized_image, cv2.COLOR_BGR2RGB))\n",
        "            plt.title(f'Label: {labels[i]}')\n",
        "            plt.axis('off')\n",
        "        else:\n",
        "            print(f\"Imagem {i} não pôde ser exibida devido a erros.\")\n",
        "\n",
        "    plt.tight_layout()\n",
        "    plt.show()\n",
        "\n",
        "# Exemplo de uso\n",
        "rois, labels = extract_data(rainy_predictions)\n",
        "visualize_rois(rois, labels)\n",
        "\n"
      ]
    },
    {
      "cell_type": "code",
      "execution_count": 119,
      "metadata": {},
      "outputs": [
        {
          "name": "stdout",
          "output_type": "stream",
          "text": [
            "Espaço 1: Ocupado\n",
            "  Centro: x=651, y=636\n",
            "Espaço 2: Ocupado\n",
            "  Centro: x=705, y=563\n",
            "Espaço 3: Ocupado\n",
            "  Centro: x=732, y=480\n",
            "Espaço 4: Livre\n",
            "  Centro: x=762, y=409\n",
            "Espaço 5: Livre\n",
            "  Centro: x=773, y=346\n",
            "Espaço 6: Livre\n",
            "  Centro: x=803, y=296\n",
            "Espaço 7: Livre\n",
            "  Centro: x=818, y=255\n",
            "Espaço 8: Livre\n",
            "  Centro: x=837, y=222\n",
            "Espaço 9: Livre\n",
            "  Centro: x=856, y=192\n",
            "Espaço 10: Ocupado\n",
            "  Centro: x=469, y=649\n",
            "Espaço 11: Livre\n",
            "  Centro: x=644, y=352\n",
            "Espaço 12: Livre\n",
            "  Centro: x=687, y=300\n",
            "Espaço 13: Livre\n",
            "  Centro: x=693, y=262\n",
            "Espaço 14: Livre\n",
            "  Centro: x=733, y=227\n",
            "Espaço 15: Livre\n",
            "  Centro: x=737, y=193\n",
            "Espaço 16: Livre\n",
            "  Centro: x=307, y=326\n",
            "Espaço 17: Livre\n",
            "  Centro: x=361, y=283\n",
            "Espaço 18: Livre\n",
            "  Centro: x=403, y=246\n",
            "Espaço 19: Livre\n",
            "  Centro: x=452, y=214\n",
            "Espaço 20: Livre\n",
            "  Centro: x=482, y=184\n",
            "Espaço 21: Livre\n",
            "  Centro: x=513, y=161\n",
            "Espaço 22: Ocupado\n",
            "  Centro: x=127, y=363\n",
            "Espaço 23: Livre\n",
            "  Centro: x=198, y=310\n",
            "Espaço 24: Livre\n",
            "  Centro: x=260, y=276\n",
            "Espaço 25: Livre\n",
            "  Centro: x=316, y=243\n",
            "Espaço 26: Livre\n",
            "  Centro: x=359, y=211\n",
            "Espaço 27: Livre\n",
            "  Centro: x=401, y=186\n",
            "Espaço 28: Livre\n",
            "  Centro: x=437, y=162\n"
          ]
        }
      ],
      "source": [
        "xlm_path = rainy_predictions[0][2]\n",
        "\n",
        "tree = ET.parse(xml_path)\n",
        "root = tree.getroot()\n",
        "\n",
        "for space in root.findall('space'):\n",
        "  space_id = space.get('id')\n",
        "  occupied = space.get('occupied')\n",
        "\n",
        "  print(f'Espaço {space_id}: {\"Ocupado\" if occupied == \"1\" else \"Livre\"}')\n",
        "\n",
        "  # Acesse outros elementos dentro de 'space', se necessário\n",
        "  rotated_rect = space.find('rotatedRect')\n",
        "  if rotated_rect is not None:\n",
        "    center = rotated_rect.find('center')\n",
        "    if center is not None:\n",
        "      x = center.get('x')\n",
        "      y = center.get('y')\n",
        "      print(f'  Centro: x={x}, y={y}')"
      ]
    }
  ],
  "metadata": {
    "colab": {
      "provenance": []
    },
    "kernelspec": {
      "display_name": "Python 3",
      "name": "python3"
    },
    "language_info": {
      "codemirror_mode": {
        "name": "ipython",
        "version": 3
      },
      "file_extension": ".py",
      "mimetype": "text/x-python",
      "name": "python",
      "nbconvert_exporter": "python",
      "pygments_lexer": "ipython3",
      "version": "3.10.0"
    }
  },
  "nbformat": 4,
  "nbformat_minor": 0
}
